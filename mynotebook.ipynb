{
 "cells": [
  {
   "cell_type": "markdown",
   "metadata": {},
   "source": [
    "# Import libraries, set options"
   ]
  },
  {
   "cell_type": "code",
   "execution_count": null,
   "metadata": {},
   "outputs": [],
   "source": [
    "import pandas as pd\n",
    "import numpy as np\n",
    "from datetime import datetime\n",
    "from geocode import geocode\n",
    "pd.set_option('display.max_row', 30000)"
   ]
  },
  {
   "cell_type": "markdown",
   "metadata": {},
   "source": [
    "# Read in data as pandas data frame, selecting only certain fields"
   ]
  },
  {
   "cell_type": "code",
   "execution_count": null,
   "metadata": {},
   "outputs": [],
   "source": [
    "fields = ['distinct_id', 'numItinerariesReturned', 'departureDate', 'startFromLocation', 'selectedDestination_id', 'selectedDestination_name', 'time']"
   ]
  },
  {
   "cell_type": "code",
   "execution_count": null,
   "metadata": {},
   "outputs": [],
   "source": [
    "df = pd.read_csv('generated_itineraries.csv', usecols = fields)"
   ]
  },
  {
   "cell_type": "markdown",
   "metadata": {},
   "source": [
    "# Wrange field: destinationIDs"
   ]
  },
  {
   "cell_type": "code",
   "execution_count": null,
   "metadata": {},
   "outputs": [],
   "source": [
    "# Replace all of the NAs for destinationIDs with 0\n",
    "df.selectedDestination_id.fillna(0, inplace = True)\n",
    "\n",
    "# Remove the 2 cases where the string says null\n",
    "# Great tutorial here: https://www.youtube.com/watch?v=2AFGPdNn4FM\n",
    "df = df[df.selectedDestination_id != 'null']\n",
    "\n",
    "# Convert destinationIDs column to an integer value\n",
    "df['selectedDestination_id'] = df.selectedDestination_id.astype(int)"
   ]
  },
  {
   "cell_type": "markdown",
   "metadata": {},
   "source": [
    "# Wrangle field: numItenerariesReturned"
   ]
  },
  {
   "cell_type": "code",
   "execution_count": null,
   "metadata": {},
   "outputs": [],
   "source": [
    "# Replace all of the NAs for numItinerariesReturned with 1\n",
    "df.numItinerariesReturned.fillna(1, inplace = True)\n",
    "\n",
    "# Convert from float to integer\n",
    "df['numItinerariesReturned'] = df.numItinerariesReturned.astype(int)\n",
    "\n",
    "# Select, only observatiosn where this field is greater than 0 (now that the NAs are gone)\n"
   ]
  },
  {
   "cell_type": "markdown",
   "metadata": {},
   "source": [
    "# Wrangle Field: Destination Name"
   ]
  },
  {
   "cell_type": "code",
   "execution_count": null,
   "metadata": {},
   "outputs": [],
   "source": [
    "#Replace all of the NAs in\n",
    "df.selectedDestination_name.fillna(\"\", inplace = True)\n",
    "\n",
    "print(\"Number of rows before departure date: \")\n",
    "print(len(df))"
   ]
  },
  {
   "cell_type": "markdown",
   "metadata": {},
   "source": [
    "# Wrangle Field: departureDate"
   ]
  },
  {
   "cell_type": "code",
   "execution_count": null,
   "metadata": {
    "scrolled": true
   },
   "outputs": [],
   "source": [
    "#Convert destinationIDs column to an integer value\n",
    "# It looks like there were some complex rows being held in here before, I thought that when df.dtypes returned object that\n",
    "# meant string but apprently not\n",
    "df['departureDate'] = df.departureDate.astype(str)\n",
    "\n",
    "print(\"number of rows before removal of anamoulous departureDate cases\")\n",
    "print(len(df))\n",
    "\n",
    "\n",
    "# IT looks like there are some cases where this field is blank, says nan, is in format 24503, or in format \"masked\" \n",
    "# We need to remove these cases from the data frame\n",
    "# I can see that some blank rows are still printed out.\n",
    "df = df[df.departureDate != '']\n",
    "df = df[df.departureDate != 'nan']\n",
    "df = df[df.departureDate != '24503']\n",
    "df = df[df.departureDate != '[masked]']\n",
    "\n",
    "\n",
    "print(\"number of rows after removal of anamoulous departureDate cases\")\n",
    "print(len(df))\n",
    "\n",
    "# Create a function extractDate that extracts the first ten characters of an input string\n",
    "def extractDate(dateString):\n",
    "    extractedDate = dateString[0:10]\n",
    "    if len(extractedDate) < 10:\n",
    "        print(extractedDate)\n",
    "    return extractedDate\n",
    "\n",
    "''' Code to test if the extractDate function works\n",
    "\n",
    "# Apply this function to create  a new column\n",
    "df['departureDateFixed'] = df.departureDate.apply(extractDate)\n",
    "\n",
    "cols = ['distinct_id', 'departureDate', 'departureDateFixed', 'numItinerariesReturned', 'selectedDestination_id', 'selectedDestination_name', 'startFromLocation']\n",
    "\n",
    "df = df[cols]\n",
    "'''\n",
    "\n",
    "# Override departure date extracting all of the null time stamps\n",
    "df['departureDate'] = df.departureDate.apply(extractDate)\n",
    "\n",
    "\n",
    "# Convert departure date into a time object in pandas\n",
    "#See here: https://stackoverflow.com/questions/26763344/convert-pandas-column-to-datetime\n",
    "# Though this actually might not need to be done\n",
    "\n",
    "\n",
    "df['departureDate'] = df.departureDate.apply(lambda x: datetime.strptime(x, '%Y-%m-%d'))\n",
    "\n",
    "\n",
    "\n",
    "\n",
    "#df['departureDate'] = datetime.strptime(df['departureDate'], '%Y-%m-%-d')  \n",
    "#df['departureDate'] = pd.to_datetime(df['departureDate'], format = '%Y-%m-%-d')\n",
    "\n"
   ]
  },
  {
   "cell_type": "markdown",
   "metadata": {},
   "source": [
    "# Wrangle Field: distinctID"
   ]
  },
  {
   "cell_type": "code",
   "execution_count": null,
   "metadata": {},
   "outputs": [],
   "source": [
    "#It turns out distinc_id correpsonds to a user\n",
    "\n",
    "# Therefore, create a coloumn that combines the unix time stamp with distinct_id so that we have a primary key for database\n",
    "df[\"primary_key\"] = df[\"distinct_id\"] + \"-\" + df[\"time\"].map(str)\n",
    "\n",
    "\n",
    "vc = df.primary_key.value_counts()\n",
    "print(vc[vc > 1])\n",
    "\n",
    "\n",
    "unique_keys = df.primary_key.unique()\n",
    "#print(len(unique_keys))\n",
    "\n",
    "#df.head(n = len(df))"
   ]
  },
  {
   "cell_type": "markdown",
   "metadata": {},
   "source": [
    "# Find the logic of iterating over a row, skeleton for geoCoding"
   ]
  },
  {
   "cell_type": "code",
   "execution_count": null,
   "metadata": {},
   "outputs": [],
   "source": [
    "df.head(len(df))"
   ]
  },
  {
   "cell_type": "code",
   "execution_count": null,
   "metadata": {},
   "outputs": [],
   "source": []
  }
 ],
 "metadata": {
  "kernelspec": {
   "display_name": "Python 3",
   "language": "python",
   "name": "python3"
  },
  "language_info": {
   "codemirror_mode": {
    "name": "ipython",
    "version": 3
   },
   "file_extension": ".py",
   "mimetype": "text/x-python",
   "name": "python",
   "nbconvert_exporter": "python",
   "pygments_lexer": "ipython3",
   "version": "3.6.0"
  }
 },
 "nbformat": 4,
 "nbformat_minor": 2
}
