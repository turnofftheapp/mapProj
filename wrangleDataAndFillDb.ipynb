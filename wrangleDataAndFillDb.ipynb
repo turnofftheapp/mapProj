{
 "cells": [
  {
   "cell_type": "markdown",
   "metadata": {},
   "source": [
    "# Import libraries, set options, connect to DB"
   ]
  },
  {
   "cell_type": "code",
   "execution_count": null,
   "metadata": {},
   "outputs": [],
   "source": [
    "# Configuration code for datawrangling\n",
    "import pandas as pd\n",
    "import numpy as np\n",
    "from datetime import datetime\n",
    "from geocode import geocode\n",
    "pd.set_option('display.max_row', 30000)\n",
    "\n",
    "# Configuration code in order to connect to the database\n",
    "from sqlalchemy import create_engine, exists\n",
    "from sqlalchemy.orm import sessionmaker\n",
    "from database_setup import Itenerary, Base\n",
    "engine = create_engine('sqlite:///totagoData.db')\n",
    "\n",
    "# Bind the engine to the metadata of the Base class so that the\n",
    "# declaratives can be accessed through a DBSession instance\n",
    "Base.metadata.bind = engine\n",
    "\n",
    "DBSession = sessionmaker(bind=engine)\n",
    "\n",
    "session = DBSession()"
   ]
  },
  {
   "cell_type": "markdown",
   "metadata": {},
   "source": [
    "# Read in data as pandas data frame, selecting only certain fields"
   ]
  },
  {
   "cell_type": "code",
   "execution_count": null,
   "metadata": {},
   "outputs": [],
   "source": [
    "fields = ['distinct_id', 'numItinerariesReturned', 'departureDate', 'startFromLocation', 'selectedDestination_id', 'selectedDestination_name', 'time']"
   ]
  },
  {
   "cell_type": "code",
   "execution_count": null,
   "metadata": {},
   "outputs": [],
   "source": [
    "df = pd.read_csv('generated_itineraries.csv', usecols = fields)"
   ]
  },
  {
   "cell_type": "markdown",
   "metadata": {},
   "source": [
    "# Wrange field: destinationIDs"
   ]
  },
  {
   "cell_type": "code",
   "execution_count": null,
   "metadata": {},
   "outputs": [],
   "source": [
    "# Replace all of the NAs for destinationIDs with 0\n",
    "df.selectedDestination_id.fillna(0, inplace = True)\n",
    "\n",
    "# Remove the 2 cases where the string says null\n",
    "# Great tutorial here: https://www.youtube.com/watch?v=2AFGPdNn4FM\n",
    "df = df[df.selectedDestination_id != 'null']\n",
    "\n",
    "# Convert destinationIDs column to an integer value\n",
    "df['selectedDestination_id'] = df.selectedDestination_id.astype(int)"
   ]
  },
  {
   "cell_type": "markdown",
   "metadata": {},
   "source": [
    "# Wrangle field: numItenerariesReturned"
   ]
  },
  {
   "cell_type": "code",
   "execution_count": null,
   "metadata": {},
   "outputs": [],
   "source": [
    "# Replace all of the NAs for numItinerariesReturned with 1\n",
    "df.numItinerariesReturned.fillna(1, inplace = True)\n",
    "\n",
    "# Convert from float to integer\n",
    "df['numItinerariesReturned'] = df.numItinerariesReturned.astype(int)\n",
    "\n",
    "# Select, only observatiosn where this field is greater than 0 (now that the NAs are gone)\n"
   ]
  },
  {
   "cell_type": "markdown",
   "metadata": {},
   "source": [
    "# Wrangle Field: Destination Name"
   ]
  },
  {
   "cell_type": "code",
   "execution_count": null,
   "metadata": {},
   "outputs": [],
   "source": [
    "#Replace all of the NAs in\n",
    "df.selectedDestination_name.fillna(\"\", inplace = True)\n",
    "\n",
    "print(\"Number of rows before departure date: \")\n",
    "print(len(df))"
   ]
  },
  {
   "cell_type": "markdown",
   "metadata": {},
   "source": [
    "# Wrangle Field: departureDate"
   ]
  },
  {
   "cell_type": "code",
   "execution_count": null,
   "metadata": {
    "scrolled": true
   },
   "outputs": [],
   "source": [
    "#Convert destinationIDs column to an integer value\n",
    "# It looks like there were some complex rows being held in here before, I thought that when df.dtypes returned object that\n",
    "# meant string but apprently not\n",
    "df['departureDate'] = df.departureDate.astype(str)\n",
    "\n",
    "print(\"number of rows before removal of anamoulous departureDate cases\")\n",
    "print(len(df))\n",
    "\n",
    "\n",
    "# IT looks like there are some cases where this field is blank, says nan, is in format 24503, or in format \"masked\" \n",
    "# We need to remove these cases from the data frame\n",
    "# I can see that some blank rows are still printed out.\n",
    "df = df[df.departureDate != '']\n",
    "df = df[df.departureDate != 'nan']\n",
    "df = df[df.departureDate != '24503']\n",
    "df = df[df.departureDate != '[masked]']\n",
    "\n",
    "\n",
    "print(\"number of rows after removal of anamoulous departureDate cases\")\n",
    "print(len(df))\n",
    "\n",
    "# Create a function extractDate that extracts the first ten characters of an input string\n",
    "def extractDate(dateString):\n",
    "    extractedDate = dateString[0:10]\n",
    "    if len(extractedDate) < 10:\n",
    "        print(extractedDate)\n",
    "    return extractedDate\n",
    "\n",
    "''' Code to test if the extractDate function works\n",
    "\n",
    "# Apply this function to create  a new column\n",
    "df['departureDateFixed'] = df.departureDate.apply(extractDate)\n",
    "\n",
    "cols = ['distinct_id', 'departureDate', 'departureDateFixed', 'numItinerariesReturned', 'selectedDestination_id', 'selectedDestination_name', 'startFromLocation']\n",
    "\n",
    "df = df[cols]\n",
    "'''\n",
    "\n",
    "# Override departure date extracting all of the null time stamps\n",
    "df['departureDate'] = df.departureDate.apply(extractDate)\n",
    "\n",
    "\n",
    "# Convert departure date into a time object in pandas\n",
    "#See here: https://stackoverflow.com/questions/26763344/convert-pandas-column-to-datetime\n",
    "# Though this actually might not need to be done\n",
    "#df['departureDate'] = df.departureDate.apply(lambda x: datetime.strptime(x, '%Y-%m-%d'))\n",
    "\n",
    "\n",
    "\n",
    "\n",
    "#df['departureDate'] = datetime.strptime(df['departureDate'], '%Y-%m-%-d')  \n",
    "#df['departureDate'] = pd.to_datetime(df['departureDate'], format = '%Y-%m-%-d')\n",
    "\n"
   ]
  },
  {
   "cell_type": "markdown",
   "metadata": {},
   "source": [
    "# Wrangle Field: distinctID"
   ]
  },
  {
   "cell_type": "code",
   "execution_count": null,
   "metadata": {},
   "outputs": [],
   "source": [
    "#It turns out distinc_id correpsonds to a user\n",
    "\n",
    "# Therefore, create a coloumn that combines the unix time stamp with distinct_id so that we have a primary key for database\n",
    "df[\"primary_key\"] = df[\"distinct_id\"] + \"-\" + df[\"time\"].map(str)\n",
    "\n",
    "\n",
    "vc = df.primary_key.value_counts()\n",
    "print(vc[vc > 1])\n",
    "\n",
    "\n",
    "unique_keys = df.primary_key.unique()\n",
    "#print(len(unique_keys))\n",
    "\n",
    "#df.head(n = len(df))"
   ]
  },
  {
   "cell_type": "markdown",
   "metadata": {},
   "source": [
    "# Create a subset of the datle with sample method to test geocode and database entry logic"
   ]
  },
  {
   "cell_type": "code",
   "execution_count": null,
   "metadata": {},
   "outputs": [],
   "source": [
    "#Out put the entire database\n",
    "#df.head(len(df))"
   ]
  },
  {
   "cell_type": "code",
   "execution_count": null,
   "metadata": {},
   "outputs": [],
   "source": [
    "#Create a random sample of the database, these entries will be added to the database in the next section\n",
    "sampleDf = df.sample(5)\n",
    "\n",
    "# Output this random sample\n",
    "sampleDf.head(len(sampleDf))    "
   ]
  },
  {
   "cell_type": "markdown",
   "metadata": {},
   "source": [
    "# Loop through the rows in the dataframe, geocode, add entry to database"
   ]
  },
  {
   "cell_type": "code",
   "execution_count": null,
   "metadata": {},
   "outputs": [],
   "source": [
    "# Loop through the subsetted pandas data frame\n",
    "for index, row in sampleDf.iterrows():\n",
    "   \n",
    "\n",
    "    # Pull out the primary key into a variable\n",
    "    testKey = row[\"primary_key\"]\n",
    "    \n",
    "    # Check to see if that distinctID is in the data base\n",
    "    # See this post: https://stackoverflow.com/questions/6587879/how-to-elegantly-check-the-existence-of-an-object-instance-variable-and-simultan?utm_medium=organic&utm_source=google_rich_qa&utm_campaign=google_rich_qa\n",
    "    entryExists = session.query(exists().where(Itenerary.distinctKey==testKey)).scalar()\n",
    "\n",
    "    # If the entry is not in the database\n",
    "    if not entryExists:\n",
    "    \n",
    "        # Get the string to be geocoded\n",
    "        locationToGeocode = row[\"startFromLocation\"]\n",
    "\n",
    "        # Try to run the geocode function that returns a dictionary of information\n",
    "        try:\n",
    "            geocodeInfo = geocode(locationToGeocode)\n",
    "            # If geocoding works, set valid to tre\n",
    "            valid = True\n",
    "\n",
    "        # If the geocode function doesn't work set valid to false\n",
    "        except:\n",
    "            valid = False \n",
    "\n",
    "        # If valid is true create a database entry with information from the dataframe, and the returned geocode informaiton\n",
    "        if valid:\n",
    "            \n",
    "            # Sometimes, such as when a generic city is sent to the geocode() function a geometric center\n",
    "            # is returned, this means there is no postal code\n",
    "            if not 'postalCode' in geocodeInfo:\n",
    "                geocodeInfo['postalCode'] = \"none\"\n",
    "\n",
    "            databaseEntry = Itenerary(distinctKey=row[\"primary_key\"],\n",
    "                                      numberItinerariesReturned=row[\"numItinerariesReturned\"],\n",
    "                                      selectedDestination_id=row[\"selectedDestination_id\"],\n",
    "                                      selectedDestination_name=row[\"selectedDestination_name\"],\n",
    "                                      startFromLocation=row[\"startFromLocation\"],\n",
    "                                      departureDate=row[\"departureDate\"],\n",
    "                                      # Get data from python dictionary returned from geocode() function\n",
    "                                      formatted_address=geocodeInfo['formatted_address'],\n",
    "                                      lat=geocodeInfo['lat'],\n",
    "                                      lng=geocodeInfo['lng'],\n",
    "                                      postalCode=geocodeInfo['postalCode'],\n",
    "                                      valid=valid)\n",
    "        # If valid is false, just fill in the information that we have from the pandas data frame\n",
    "        else:\n",
    "            databaseEntry = Itenerary(distinctKey=row[\"primary_key\"],\n",
    "                                      numberItinerariesReturned=row[\"numItinerariesReturned\"],\n",
    "                                      selectedDestination_id=row[\"selectedDestination_id\"],\n",
    "                                      selectedDestination_name=row[\"selectedDestination_name\"],\n",
    "                                      startFromLocation=row[\"startFromLocation\"],\n",
    "                                      departureDate=row[\"departureDate\"],\n",
    "                                      valid=valid)\n",
    "\n",
    "        # Add the the information to a database.    \n",
    "        session.add(databaseEntry)\n",
    "        session.commit()\n",
    "    \n",
    "    else:\n",
    "        print(\"Entry already inside of database\")"
   ]
  }
 ],
 "metadata": {
  "kernelspec": {
   "display_name": "Python 3",
   "language": "python",
   "name": "python3"
  },
  "language_info": {
   "codemirror_mode": {
    "name": "ipython",
    "version": 3
   },
   "file_extension": ".py",
   "mimetype": "text/x-python",
   "name": "python",
   "nbconvert_exporter": "python",
   "pygments_lexer": "ipython3",
   "version": "3.6.0"
  }
 },
 "nbformat": 4,
 "nbformat_minor": 2
}
