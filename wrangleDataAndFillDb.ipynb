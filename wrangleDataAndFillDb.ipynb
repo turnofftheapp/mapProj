{
 "cells": [
  {
   "cell_type": "markdown",
   "metadata": {},
   "source": [
    "# Import libraries, set options, connect to DB"
   ]
  },
  {
   "cell_type": "code",
   "execution_count": 1,
   "metadata": {},
   "outputs": [
    {
     "name": "stdout",
     "output_type": "stream",
     "text": [
      "90210\n",
      "98104\n",
      "CBD\n"
     ]
    },
    {
     "name": "stderr",
     "output_type": "stream",
     "text": [
      "/Library/Frameworks/Python.framework/Versions/3.6/lib/python3.6/site-packages/psycopg2/__init__.py:144: UserWarning: The psycopg2 wheel package will be renamed from release 2.8; in order to keep installing from binary please use \"pip install psycopg2-binary\" instead. For details see: <http://initd.org/psycopg/docs/install.html#binary-install-from-pypi>.\n",
      "  \"\"\")\n"
     ]
    },
    {
     "name": "stdout",
     "output_type": "stream",
     "text": [
      "True\n",
      "True\n"
     ]
    }
   ],
   "source": [
    "# Configuration code for datawrangling\n",
    "import pandas as pd\n",
    "import os\n",
    "import numpy as np\n",
    "from datetime import datetime\n",
    "from geocode import geocode\n",
    "import mapToPoly\n",
    "from mapToPoly import mapToPoly\n",
    "pd.set_option('display.max_row', 30000)\n",
    "import csv\n",
    "\n",
    "# Configuration code in order to connect to the database\n",
    "from sqlalchemy import create_engine, exists\n",
    "from sqlalchemy.orm import sessionmaker\n",
    "from database_setup import Itenerary, Base\n",
    "\n",
    "passWord = os.environ['my_password']\n",
    "DATABASE_URI = 'postgres+psycopg2://maxcarey:' + passWord + '@localhost:5432/totago'\n",
    "engine = create_engine(DATABASE_URI)\n",
    "\n",
    "#engine = create_engine('sqlite:///totagoData.db')\n",
    "\n",
    "# Bind the engine to the metadata of the Base class so that the\n",
    "# declaratives can be accessed through a DBSession instance\n",
    "Base.metadata.bind = engine\n",
    "\n",
    "DBSession = sessionmaker(bind=engine)\n",
    "\n",
    "session = DBSession()"
   ]
  },
  {
   "cell_type": "markdown",
   "metadata": {},
   "source": [
    "# Read in data as pandas data frame, selecting only certain fields"
   ]
  },
  {
   "cell_type": "code",
   "execution_count": 2,
   "metadata": {},
   "outputs": [],
   "source": [
    "fields = ['distinct_id', 'numItinerariesReturned', 'departureDate', 'startFromLocation', 'selectedDestination_id', 'selectedDestination_name', 'time']"
   ]
  },
  {
   "cell_type": "code",
   "execution_count": 3,
   "metadata": {},
   "outputs": [
    {
     "name": "stderr",
     "output_type": "stream",
     "text": [
      "/Library/Frameworks/Python.framework/Versions/3.6/lib/python3.6/site-packages/IPython/core/interactiveshell.py:2717: DtypeWarning: Columns (48) have mixed types. Specify dtype option on import or set low_memory=False.\n",
      "  interactivity=interactivity, compiler=compiler, result=result)\n"
     ]
    }
   ],
   "source": [
    "df = pd.read_csv('generated_itineraries.csv', usecols = fields)"
   ]
  },
  {
   "cell_type": "markdown",
   "metadata": {},
   "source": [
    "# Wrange field: destinationIDs"
   ]
  },
  {
   "cell_type": "code",
   "execution_count": 4,
   "metadata": {},
   "outputs": [],
   "source": [
    "# Replace all of the NAs for destinationIDs with 0\n",
    "df.selectedDestination_id.fillna(0, inplace = True)\n",
    "\n",
    "# Remove the 2 cases where the string says null\n",
    "# Great tutorial here: https://www.youtube.com/watch?v=2AFGPdNn4FM\n",
    "df = df[df.selectedDestination_id != 'null']\n",
    "\n",
    "# Convert destinationIDs column to an integer value\n",
    "df['selectedDestination_id'] = df.selectedDestination_id.astype(int)\n",
    "\n"
   ]
  },
  {
   "cell_type": "markdown",
   "metadata": {},
   "source": [
    "# Wrangle field: numItenerariesReturned"
   ]
  },
  {
   "cell_type": "code",
   "execution_count": 5,
   "metadata": {},
   "outputs": [],
   "source": [
    "# Replace all of the NAs for numItinerariesReturned with 1\n",
    "df.numItinerariesReturned.fillna(1, inplace = True)\n",
    "\n",
    "# Convert from float to integer\n",
    "df['numItinerariesReturned'] = df.numItinerariesReturned.astype(int)\n",
    "\n",
    "# Select, only observatiosn where this field is greater than 0 (now that the NAs are gone)\n"
   ]
  },
  {
   "cell_type": "markdown",
   "metadata": {},
   "source": [
    "# Wrangle Field: Destination Name"
   ]
  },
  {
   "cell_type": "code",
   "execution_count": 6,
   "metadata": {},
   "outputs": [
    {
     "name": "stdout",
     "output_type": "stream",
     "text": [
      "Number of rows before departure date: \n",
      "28138\n"
     ]
    }
   ],
   "source": [
    "#Replace all of the NAs in\n",
    "df.selectedDestination_name.fillna(\"\", inplace = True)\n",
    "\n",
    "print(\"Number of rows before departure date: \")\n",
    "print(len(df))\n"
   ]
  },
  {
   "cell_type": "markdown",
   "metadata": {},
   "source": [
    "# Wrangle Field: departureDate"
   ]
  },
  {
   "cell_type": "code",
   "execution_count": 7,
   "metadata": {
    "scrolled": true
   },
   "outputs": [
    {
     "name": "stdout",
     "output_type": "stream",
     "text": [
      "number of rows before removal of anamoulous departureDate cases\n",
      "28138\n",
      "number of rows after removal of anamoulous departureDate cases\n",
      "28130\n"
     ]
    }
   ],
   "source": [
    "#Convert destinationIDs column to an integer value\n",
    "# It looks like there were some complex rows being held in here before, I thought that when df.dtypes returned object that\n",
    "# meant string but apprently not\n",
    "df['departureDate'] = df.departureDate.astype(str)\n",
    "\n",
    "print(\"number of rows before removal of anamoulous departureDate cases\")\n",
    "print(len(df))\n",
    "\n",
    "\n",
    "# IT looks like there are some cases where this field is blank, says nan, is in format 24503, or in format \"masked\" \n",
    "# We need to remove these cases from the data frame\n",
    "# I can see that some blank rows are still printed out.\n",
    "df = df[df.departureDate != '']\n",
    "df = df[df.departureDate != 'nan']\n",
    "df = df[df.departureDate != '24503']\n",
    "df = df[df.departureDate != '[masked]']\n",
    "\n",
    "\n",
    "print(\"number of rows after removal of anamoulous departureDate cases\")\n",
    "print(len(df))\n",
    "\n",
    "# Create a function extractDate that extracts the first ten characters of an input string\n",
    "def extractDate(dateString):\n",
    "    extractedDate = dateString[0:10]\n",
    "    if len(extractedDate) < 10:\n",
    "        print(extractedDate)\n",
    "    return extractedDate\n",
    "\n",
    "''' Code to test if the extractDate function works\n",
    "\n",
    "# Apply this function to create  a new column\n",
    "df['departureDateFixed'] = df.departureDate.apply(extractDate)\n",
    "\n",
    "cols = ['distinct_id', 'departureDate', 'departureDateFixed', 'numItinerariesReturned', 'selectedDestination_id', 'selectedDestination_name', 'startFromLocation']\n",
    "\n",
    "df = df[cols]\n",
    "'''\n",
    "\n",
    "# Override departure date extracting all of the null time stamps\n",
    "df['departureDate'] = df.departureDate.apply(extractDate)\n",
    "\n",
    "\n",
    "# Convert departure date into a time object in pandas\n",
    "#See here: https://stackoverflow.com/questions/26763344/convert-pandas-column-to-datetime\n",
    "# Though this actually might not need to be done\n",
    "#df['departureDate'] = df.departureDate.apply(lambda x: datetime.strptime(x, '%Y-%m-%d'))\n",
    "\n",
    "\n",
    "\n",
    "\n",
    "#df['departureDate'] = datetime.strptime(df['departureDate'], '%Y-%m-%-d')  \n",
    "#df['departureDate'] = pd.to_datetime(df['departureDate'], format = '%Y-%m-%-d')\n",
    "\n"
   ]
  },
  {
   "cell_type": "markdown",
   "metadata": {},
   "source": [
    "# Wrangle Field: distinctID"
   ]
  },
  {
   "cell_type": "code",
   "execution_count": 8,
   "metadata": {},
   "outputs": [
    {
     "name": "stdout",
     "output_type": "stream",
     "text": [
      "68f3348e-32ff-4756-a6b9-fbf722d5bf76-1460184823                             3\n",
      "16017f5f592536-094b655d7b8ce4-7636321b-4a640-16017f5f5932bd-1512207331      3\n",
      "2578f3c5-2bd8-4d7e-b05e-d82eb4e24632-1448989343                             3\n",
      "156c0427d8411b-089cb3f5e0f3f-1c114a5c-13c680-156c0427d85c5-1472086519       3\n",
      "15ae497624281a-06e6a097b99f59-5e4f2b18-ff000-15ae4976243a16-1489889250      3\n",
      "ab4ac825-e153-4b5e-8296-7edb8c32c6ab-1541125487                             2\n",
      "162f0142ee872-09409dc3356e2d-7047503f-144000-162f0142ee95ef-1524421918      2\n",
      "2578f3c5-2bd8-4d7e-b05e-d82eb4e24632-1448989372                             2\n",
      "156f5faf7931f1-0554d455a-6a03173d-3d10d-156f5faf7943b9-1472980664           2\n",
      "9a942f21-ad25-4129-b760-46bcec9e631d-1448989390                             2\n",
      "155882b15e9b7-0b48aea17-2d4c1d03-c0000-155882b15ea1a7-1466895198            2\n",
      "2578f3c5-2bd8-4d7e-b05e-d82eb4e24632-1448989336                             2\n",
      "2578f3c5-2bd8-4d7e-b05e-d82eb4e24632-1448989351                             2\n",
      "f763ca4a-e65f-4054-8a7a-8682bc627b15-1474711830                             2\n",
      "9a942f21-ad25-4129-b760-46bcec9e631d-1448989404                             2\n",
      "acc70a5e-fced-43ec-9225-b5b13b9d3103-1451167936                             2\n",
      "cb9dcbce-753b-4fe5-a91a-1a58a779263c-1494111569                             2\n",
      "9a942f21-ad25-4129-b760-46bcec9e631d-1448989392                             2\n",
      "9a942f21-ad25-4129-b760-46bcec9e631d-1448989397                             2\n",
      "2578f3c5-2bd8-4d7e-b05e-d82eb4e24632-1448989375                             2\n",
      "c7ca4b64-84f0-46dd-b8e1-00530a09f7d9-1443084797                             2\n",
      "1618f2648b084b-06c2b14d540606-32657403-1aeaa0-1618f2648b147f-1518645763     2\n",
      "6059a95c-9075-49c1-bfce-dc5420759ed3-1469199106                             2\n",
      "16693ed1-fd53-4577-8cbe-5ca19ff74b89-1509430935                             2\n",
      "9a942f21-ad25-4129-b760-46bcec9e631d-1448989346                             2\n",
      "f67face6-b99b-4ddc-8326-3dbe6998c01c-1490893501                             2\n",
      "2578f3c5-2bd8-4d7e-b05e-d82eb4e24632-1448989346                             2\n",
      "2578f3c5-2bd8-4d7e-b05e-d82eb4e24632-1448989357                             2\n",
      "2578f3c5-2bd8-4d7e-b05e-d82eb4e24632-1448989361                             2\n",
      "2578f3c5-2bd8-4d7e-b05e-d82eb4e24632-1448989332                             2\n",
      "f67face6-b99b-4ddc-8326-3dbe6998c01c-1490958347                             2\n",
      "1657f9a517fcd8-0eec0990ac17ad-49183707-13c680-1657f9a5180e51-1535419115     2\n",
      "acc70a5e-fced-43ec-9225-b5b13b9d3103-1451168281                             2\n",
      "9a942f21-ad25-4129-b760-46bcec9e631d-1448989377                             2\n",
      "163721d365241a-06d6acc4de97e28-1d451b27-13c680-163721d36539eb-1527017139    2\n",
      "2b9795d4-912a-4c5b-b628-1ccd366c488f-1466266682                             2\n",
      "cb9dcbce-753b-4fe5-a91a-1a58a779263c-1494110966                             2\n",
      "Name: primary_key, dtype: int64\n"
     ]
    }
   ],
   "source": [
    "#It turns out distinc_id correpsonds to a user\n",
    "\n",
    "# Therefore, create a coloumn that combines the unix time stamp with distinct_id so that we have a primary key for database\n",
    "df[\"primary_key\"] = df[\"distinct_id\"] + \"-\" + df[\"time\"].map(str)\n",
    "\n",
    "\n",
    "vc = df.primary_key.value_counts()\n",
    "print(vc[vc > 1])\n",
    "\n",
    "\n",
    "unique_keys = df.primary_key.unique()\n",
    "#print(len(unique_keys))\n",
    "\n",
    "#df.head(n = len(df))"
   ]
  },
  {
   "cell_type": "markdown",
   "metadata": {},
   "source": [
    "# Create a subset of the datle with sample method to test geocode and database entry logic"
   ]
  },
  {
   "cell_type": "code",
   "execution_count": 9,
   "metadata": {},
   "outputs": [
    {
     "data": {
      "text/plain": [
       "28130"
      ]
     },
     "execution_count": 9,
     "metadata": {},
     "output_type": "execute_result"
    }
   ],
   "source": [
    "#Out put the entire database\n",
    "#df.head(len(df))\n",
    "\n",
    "len(df)"
   ]
  },
  {
   "cell_type": "code",
   "execution_count": 10,
   "metadata": {},
   "outputs": [
    {
     "data": {
      "text/html": [
       "<div>\n",
       "<table border=\"1\" class=\"dataframe\">\n",
       "  <thead>\n",
       "    <tr style=\"text-align: right;\">\n",
       "      <th></th>\n",
       "      <th>departureDate</th>\n",
       "      <th>distinct_id</th>\n",
       "      <th>numItinerariesReturned</th>\n",
       "      <th>selectedDestination_id</th>\n",
       "      <th>selectedDestination_name</th>\n",
       "      <th>startFromLocation</th>\n",
       "      <th>time</th>\n",
       "      <th>primary_key</th>\n",
       "    </tr>\n",
       "  </thead>\n",
       "  <tbody>\n",
       "    <tr>\n",
       "      <th>16845</th>\n",
       "      <td>2017-09-23</td>\n",
       "      <td>15eadcd8287489-09232161a35593-6b713c72-2c600-1...</td>\n",
       "      <td>1</td>\n",
       "      <td>113</td>\n",
       "      <td>BCMC Trail</td>\n",
       "      <td>UBC Student Recreation Centre, Student Union B...</td>\n",
       "      <td>1506128098</td>\n",
       "      <td>15eadcd8287489-09232161a35593-6b713c72-2c600-1...</td>\n",
       "    </tr>\n",
       "    <tr>\n",
       "      <th>4276</th>\n",
       "      <td>2016-08-19</td>\n",
       "      <td>1568480bfe421-04b4cc999270af-6a081a0e-38400-15...</td>\n",
       "      <td>1</td>\n",
       "      <td>149</td>\n",
       "      <td></td>\n",
       "      <td>1001 Homer Street, Vancouver, Columbia Británi...</td>\n",
       "      <td>1471632701</td>\n",
       "      <td>1568480bfe421-04b4cc999270af-6a081a0e-38400-15...</td>\n",
       "    </tr>\n",
       "    <tr>\n",
       "      <th>7382</th>\n",
       "      <td>2016-11-24</td>\n",
       "      <td>1588a5f46d9156-0423e389fac901-1d376c52-fa000-1...</td>\n",
       "      <td>1</td>\n",
       "      <td>1</td>\n",
       "      <td></td>\n",
       "      <td>2310 10th Avenue East, Seattle, WA, United States</td>\n",
       "      <td>1479761734</td>\n",
       "      <td>1588a5f46d9156-0423e389fac901-1d376c52-fa000-1...</td>\n",
       "    </tr>\n",
       "    <tr>\n",
       "      <th>4150</th>\n",
       "      <td>2016-08-17</td>\n",
       "      <td>1569950c827af-0bbb762c6643b4-2a44795f-38400-15...</td>\n",
       "      <td>1</td>\n",
       "      <td>131</td>\n",
       "      <td></td>\n",
       "      <td>Burrard Street, Vancouver, BC, Canada</td>\n",
       "      <td>1471425840</td>\n",
       "      <td>1569950c827af-0bbb762c6643b4-2a44795f-38400-15...</td>\n",
       "    </tr>\n",
       "    <tr>\n",
       "      <th>27421</th>\n",
       "      <td>2018-11-18</td>\n",
       "      <td>16728305ff392b-09f0b3f70b40ee-48183707-13c680-...</td>\n",
       "      <td>1</td>\n",
       "      <td>136</td>\n",
       "      <td>Lighthouse Park</td>\n",
       "      <td>49.26171937062953,-123.11564604508003</td>\n",
       "      <td>1542538740</td>\n",
       "      <td>16728305ff392b-09f0b3f70b40ee-48183707-13c680-...</td>\n",
       "    </tr>\n",
       "    <tr>\n",
       "      <th>560</th>\n",
       "      <td>2016-04-09</td>\n",
       "      <td>c7a2905b-3406-499e-a414-cf38a257040a</td>\n",
       "      <td>1</td>\n",
       "      <td>24</td>\n",
       "      <td></td>\n",
       "      <td>My Location</td>\n",
       "      <td>1459710883</td>\n",
       "      <td>c7a2905b-3406-499e-a414-cf38a257040a-1459710883</td>\n",
       "    </tr>\n",
       "    <tr>\n",
       "      <th>7594</th>\n",
       "      <td>2016-12-04</td>\n",
       "      <td>158cb3263ab77-02dd79c72-2c735256-3d10d-158cb32...</td>\n",
       "      <td>1</td>\n",
       "      <td>136</td>\n",
       "      <td></td>\n",
       "      <td>1876 West Broadway, Vancouver, BC, Canada</td>\n",
       "      <td>1480849088</td>\n",
       "      <td>158cb3263ab77-02dd79c72-2c735256-3d10d-158cb32...</td>\n",
       "    </tr>\n",
       "    <tr>\n",
       "      <th>7604</th>\n",
       "      <td>2016-12-10</td>\n",
       "      <td>158d4c8dfdc27c-03fc5f91455e7d8-3e146958-3d10d-...</td>\n",
       "      <td>1</td>\n",
       "      <td>14</td>\n",
       "      <td></td>\n",
       "      <td>1515 12th Ave S, Seattle, WA, United States</td>\n",
       "      <td>1481010036</td>\n",
       "      <td>158d4c8dfdc27c-03fc5f91455e7d8-3e146958-3d10d-...</td>\n",
       "    </tr>\n",
       "    <tr>\n",
       "      <th>5912</th>\n",
       "      <td>2016-09-21</td>\n",
       "      <td>1567fc195641ef-0ad693cc7-504b7d3c-c0000-1567fc...</td>\n",
       "      <td>1</td>\n",
       "      <td>170</td>\n",
       "      <td></td>\n",
       "      <td>Shilo Inn, Mammoth Lakes, CA, United States</td>\n",
       "      <td>1474303793</td>\n",
       "      <td>1567fc195641ef-0ad693cc7-504b7d3c-c0000-1567fc...</td>\n",
       "    </tr>\n",
       "    <tr>\n",
       "      <th>15753</th>\n",
       "      <td>2017-08-23</td>\n",
       "      <td>15e11516eeb50c-0a324fdf03e32e-31617c03-13c680-...</td>\n",
       "      <td>1</td>\n",
       "      <td>561</td>\n",
       "      <td>The Hollywood Sign (Mount Lee)</td>\n",
       "      <td>Venice Beach, Los Angeles, CA, United States</td>\n",
       "      <td>1503504012</td>\n",
       "      <td>15e11516eeb50c-0a324fdf03e32e-31617c03-13c680-...</td>\n",
       "    </tr>\n",
       "  </tbody>\n",
       "</table>\n",
       "</div>"
      ],
      "text/plain": [
       "      departureDate                                        distinct_id  \\\n",
       "16845    2017-09-23  15eadcd8287489-09232161a35593-6b713c72-2c600-1...   \n",
       "4276     2016-08-19  1568480bfe421-04b4cc999270af-6a081a0e-38400-15...   \n",
       "7382     2016-11-24  1588a5f46d9156-0423e389fac901-1d376c52-fa000-1...   \n",
       "4150     2016-08-17  1569950c827af-0bbb762c6643b4-2a44795f-38400-15...   \n",
       "27421    2018-11-18  16728305ff392b-09f0b3f70b40ee-48183707-13c680-...   \n",
       "560      2016-04-09               c7a2905b-3406-499e-a414-cf38a257040a   \n",
       "7594     2016-12-04  158cb3263ab77-02dd79c72-2c735256-3d10d-158cb32...   \n",
       "7604     2016-12-10  158d4c8dfdc27c-03fc5f91455e7d8-3e146958-3d10d-...   \n",
       "5912     2016-09-21  1567fc195641ef-0ad693cc7-504b7d3c-c0000-1567fc...   \n",
       "15753    2017-08-23  15e11516eeb50c-0a324fdf03e32e-31617c03-13c680-...   \n",
       "\n",
       "       numItinerariesReturned  selectedDestination_id  \\\n",
       "16845                       1                     113   \n",
       "4276                        1                     149   \n",
       "7382                        1                       1   \n",
       "4150                        1                     131   \n",
       "27421                       1                     136   \n",
       "560                         1                      24   \n",
       "7594                        1                     136   \n",
       "7604                        1                      14   \n",
       "5912                        1                     170   \n",
       "15753                       1                     561   \n",
       "\n",
       "             selectedDestination_name  \\\n",
       "16845                      BCMC Trail   \n",
       "4276                                    \n",
       "7382                                    \n",
       "4150                                    \n",
       "27421                 Lighthouse Park   \n",
       "560                                     \n",
       "7594                                    \n",
       "7604                                    \n",
       "5912                                    \n",
       "15753  The Hollywood Sign (Mount Lee)   \n",
       "\n",
       "                                       startFromLocation        time  \\\n",
       "16845  UBC Student Recreation Centre, Student Union B...  1506128098   \n",
       "4276   1001 Homer Street, Vancouver, Columbia Británi...  1471632701   \n",
       "7382   2310 10th Avenue East, Seattle, WA, United States  1479761734   \n",
       "4150               Burrard Street, Vancouver, BC, Canada  1471425840   \n",
       "27421              49.26171937062953,-123.11564604508003  1542538740   \n",
       "560                                          My Location  1459710883   \n",
       "7594           1876 West Broadway, Vancouver, BC, Canada  1480849088   \n",
       "7604         1515 12th Ave S, Seattle, WA, United States  1481010036   \n",
       "5912         Shilo Inn, Mammoth Lakes, CA, United States  1474303793   \n",
       "15753       Venice Beach, Los Angeles, CA, United States  1503504012   \n",
       "\n",
       "                                             primary_key  \n",
       "16845  15eadcd8287489-09232161a35593-6b713c72-2c600-1...  \n",
       "4276   1568480bfe421-04b4cc999270af-6a081a0e-38400-15...  \n",
       "7382   1588a5f46d9156-0423e389fac901-1d376c52-fa000-1...  \n",
       "4150   1569950c827af-0bbb762c6643b4-2a44795f-38400-15...  \n",
       "27421  16728305ff392b-09f0b3f70b40ee-48183707-13c680-...  \n",
       "560      c7a2905b-3406-499e-a414-cf38a257040a-1459710883  \n",
       "7594   158cb3263ab77-02dd79c72-2c735256-3d10d-158cb32...  \n",
       "7604   158d4c8dfdc27c-03fc5f91455e7d8-3e146958-3d10d-...  \n",
       "5912   1567fc195641ef-0ad693cc7-504b7d3c-c0000-1567fc...  \n",
       "15753  15e11516eeb50c-0a324fdf03e32e-31617c03-13c680-...  "
      ]
     },
     "execution_count": 10,
     "metadata": {},
     "output_type": "execute_result"
    }
   ],
   "source": [
    "#Create a random sample of the database, these entries will be added to the database in the next section\n",
    "sampleDf = df.sample(10)\n",
    "\n",
    "# Output this random sample\n",
    "sampleDf.head(len(sampleDf))    "
   ]
  },
  {
   "cell_type": "markdown",
   "metadata": {},
   "source": [
    "## Read in the destination data to allow the possibility to pull the correct names\n",
    "\n",
    " \n"
   ]
  },
  {
   "cell_type": "code",
   "execution_count": 11,
   "metadata": {},
   "outputs": [
    {
     "name": "stdout",
     "output_type": "stream",
     "text": [
      "{'168': {'name': 'Mammoth Pass - Crater Meadow Trail'}, '178': {'name': 'Sport Climbing at Horseshoe Slabs'}, '181': {'name': 'Hazel Wolf Wetlands Loop'}, '183': {'name': 'Redwood Grove Loop Trail'}, '184': {'name': 'Birdwatching at Fowlsheugh Reserve'}, '12': {'name': 'Point Defiance Loop (OLD)'}, '112': {'name': 'Baden Powell Lynn Canyon to Grouse'}, '175': {'name': 'Rainbow Falls Trail'}, '174': {'name': 'Walking the Town Loop to Sherwins Vista'}, '20': {'name': 'The Lions Binkert Trail'}, '27': {'name': 'Tumamoc Hill'}, '8': {'name': 'Proximity Alert Test'}, '169': {'name': 'McLeod Lake Spur'}, '165': {'name': 'Siskiyou Mountain (White Rabbit Trail)'}, '22': {'name': 'Lake Blanca'}, '11': {'name': 'Carkeek Park'}, '162': {'name': 'Rouge Park Traverse'}, '172': {'name': 'Walking the Lakes Basin Path at Twin Lakes'}, '16': {'name': 'Golden Gardens to Carkeek Park Beach Walk'}, '111': {'name': 'Baden Powell Deep Cove to Lynn Canyon'}, '278': {'name': 'Tujunga Wash Path'}, '13': {'name': 'Point Defiance Loop'}, '110': {'name': 'Admiralty Point'}, '113': {'name': 'BCMC Trail'}, '54': {'name': 'Des Moines Creek Trail'}, '55': {'name': 'Big Cedar and Kennedy Falls'}, '50': {'name': \"Debbie's View on Squak Mountain\"}, '120': {'name': 'Burnaby Mountain'}, '121': {'name': 'Burns Bog Delta Nature Reserve'}, '279': {'name': 'Pepper Tree Vista Trail'}, '115': {'name': 'Boundary Bay Regional Park'}, '117': {'name': 'Brothers Creek Loop'}, '118': {'name': 'Buntzen Lake'}, '119': {'name': 'Burnaby Lake'}, '49': {'name': 'Priest Point Park - Ellis Cove Loop'}, '122': {'name': 'Capilano Canyon'}, '123': {'name': 'Coquitlam Crunch'}, '127': {'name': 'Deer Lake'}, '23': {'name': 'Rattlesnake Ledge'}, '128': {'name': 'Dilly Dally Loop'}, '25': {'name': \"Dirty Harry's Peak\"}, '129': {'name': 'Foreshore Trail'}, '130': {'name': 'Goat Mountain'}, '131': {'name': 'Grouse Grind'}, '28': {'name': 'Snow Lake'}, '132': {'name': 'Jug Island Beach'}, '32': {'name': 'St Edwards State Park'}, '316': {'name': 'Via Santana Trail'}, '125': {'name': 'Cypress Falls'}, '134': {'name': 'Kanaka Creek Riverfront'}, '953': {'name': 'Pender Hill'}, '33': {'name': 'Copper Ridge'}, '34': {'name': 'Little Si'}, '35': {'name': 'Teneriffe Falls'}, '135': {'name': 'Killarney Lake'}, '38': {'name': 'Forêt de Soignes Traverse'}, '136': {'name': 'Lighthouse Park'}, '137': {'name': 'Lions Bay Loop'}, '138': {'name': 'Little Goat Mountain'}, '139': {'name': 'Lynn Loop'}, '140': {'name': 'Lynn Peak'}, '141': {'name': 'Maplewood Flats'}, '954': {'name': 'Skookumchuck Narrows'}, '40': {'name': \"Aaron's Test\"}, '142': {'name': 'Mount Fromme'}, '143': {'name': 'Mount Gardner'}, '144': {'name': 'Mundy Park'}, '145': {'name': 'Pacific Spirit Regional Park'}, '147': {'name': 'Rice Lake'}, '151': {'name': 'Shoreline Trail'}, '171': {'name': 'Walking the Horseshoe Lake Loop'}, '152': {'name': 'Skyline Trail'}, '146': {'name': 'Quarry Rock'}, '148': {'name': 'Sasamat Lake'}, '150': {'name': 'Serpentine Fen Nature Trail'}, '153': {'name': 'Stanley Park'}, '26': {'name': 'Arboretum and Foster Island'}, '1104': {'name': 'Mt Teneriffe'}, '44': {'name': 'Hoh River to Third Beach Coastal Traverse'}, '154': {'name': 'Swan Falls Viewpoint'}, '45': {'name': 'Mount Pilchuck'}, '155': {'name': 'Thunderbird Ridge'}, '156': {'name': 'Two Canyon Loop'}, '216': {'name': 'Serrano Creek Trail'}, '217': {'name': 'Serrano Creek Trail'}, '219': {'name': 'Serrano Creek Trail'}, '48': {'name': 'Angels Rest Viewpoint'}, '47': {'name': 'Capitol State Forest - Rock Candy Mountain'}, '51': {'name': 'Seahurst Park and Salmon Creek Ravine'}, '176': {'name': 'Mountain Biking the Knolls Loop'}, '177': {'name': 'Mountain Biking the Panorama Mountain Bike Trail'}, '159': {'name': 'Whytecliff Park'}, '158': {'name': 'Velodrome Trail'}, '6': {'name': 'Pima Canyon'}, '29': {'name': 'Seward Park'}, '58': {'name': 'Ravenna Park'}, '57': {'name': 'Lincoln Park Loop'}, '160': {'name': 'New trip to Pt definance'}, '56': {'name': 'Jones Peak via Bailey Canyon'}, '163': {'name': 'Golden Gardens Park'}, '161': {'name': 'Belle Isle Loop'}, '164': {'name': 'Table Rock (via Old Penitentiary Trailhead)'}, '43': {'name': 'Sierra de San Francisco Rock Art Trail'}, '222': {'name': 'Serrano Creek Trail'}, '223': {'name': 'Serrano Creek Trail'}, '39': {'name': 'Feather Falls Loop'}, '180': {'name': 'Vista Viewing from the Twin Lakes Vista'}, '173': {'name': 'Walking the Lakes Basin path from Horseshoe Lake to Lake Mary'}, '227': {'name': 'Serrano Creek Trail'}, '228': {'name': 'Serrano Creek Trail'}, '179': {'name': 'Running Lakes Basin Path from Twin Lakes Vista to Horsheshoe Lake'}, '170': {'name': 'Hiking the Panorama Dome Trail'}, '18': {'name': 'Capilano Pacific Trail'}, '167': {'name': 'Mammoth Crest Trail'}, '186': {'name': 'Howarth Park'}, '182': {'name': 'Stone Bridge Nature Trail'}, '187': {'name': 'Discovery Park-green seattle'}, '188': {'name': 'Kubota Gardens Natural Area'}, '189': {'name': 'Camp Long'}, '229': {'name': 'Serrano Creek Trail'}, '230': {'name': 'Ladera Ranch Trails'}, '231': {'name': 'Aliso Creek Riding and Hiking Trail'}, '232': {'name': 'Venta Spur Trail'}, '190': {'name': 'Sturtevant Falls'}, '191': {'name': 'Natura Trail Märkische Schweiz'}, '234': {'name': 'Aliso Creek Riding and Hiking Trail'}, '235': {'name': 'Aliso Creek Riding and Hiking Trail'}, '236': {'name': 'Aliso Creek Riding and Hiking Trail'}, '238': {'name': 'Aliso Creek Riding and Hiking Trail'}, '201': {'name': 'Corral Canyon Trail'}, '202': {'name': 'San Fernando Mission Boulevard'}, '203': {'name': 'Buzzard Peak Road'}, '204': {'name': 'Limekiln Canyon Trail'}, '206': {'name': 'San Fernando Mission Boulevard'}, '207': {'name': 'San Fernando Mission Boulevard'}, '208': {'name': 'San Clemente Beach Trail'}, '209': {'name': 'Serrano Road'}, '210': {'name': 'Raptor Road'}, '211': {'name': 'Quarry Trail'}, '213': {'name': 'Barkentine Trail'}, '214': {'name': 'Barkentine Trail'}, '215': {'name': 'Palos Verdes Cross Country Course'}, '239': {'name': 'Aliso Creek Riding and Hiking Trail'}, '240': {'name': 'Sycamore Creek Trail'}, '241': {'name': 'Sycamore Creek Trail'}, '242': {'name': 'Quarry Trail'}, '244': {'name': 'Temesca Canyon to Will Rogers State Park'}, '245': {'name': 'Anaheim Street'}, '246': {'name': '195th Street'}, '248': {'name': 'West Brazil Street'}, '249': {'name': 'West Johnson Street'}, '250': {'name': 'West Glencoe Street'}, '252': {'name': 'Gilroy Street Path'}, '254': {'name': '26th Way'}, '255': {'name': 'Live Oak Street'}, '256': {'name': 'Tweedy Boulevard'}, '257': {'name': 'Tweedy Boulevard'}, '262': {'name': 'Daines Drive'}, '263': {'name': 'Fletcher Park Way'}, '265': {'name': 'Lynnmere Trail'}, '266': {'name': 'Tommorrowland Terrace Tunnel'}, '267': {'name': 'Holloway Trail'}, '268': {'name': 'Juanita Cooke Trail'}, '269': {'name': 'Brea Dam Trail'}, '270': {'name': 'Hiltscher Park Trail'}, '271': {'name': 'Brea Dam Trail'}, '272': {'name': 'Bud Turner Trail'}, '273': {'name': 'Forster Ranch Ridgeline Trail'}, '275': {'name': 'Fort Trail'}, '276': {'name': 'Fort Trail'}, '277': {'name': 'Arroyo Conejo Trail'}, '280': {'name': \"Upper O'Neill Trail\"}, '281': {'name': 'Twisty Tire'}, '282': {'name': 'Corral Canyon Trail'}, '283': {'name': 'Tijeras Creek Trail'}, '284': {'name': 'Skelton Canyon Trail'}, '285': {'name': 'Eagle Rock Canyon Trail'}, '289': {'name': 'Temescal Canyon to Will Rogers State Park'}, '290': {'name': 'Parade Route'}, '291': {'name': 'San Clemente Beach Trail'}, '292': {'name': 'San Clemente Beach Trail'}, '293': {'name': 'Palos Verdes Cross Country Course'}, '294': {'name': 'Palos Verdes Cross Country Course'}, '295': {'name': 'Brea Dam Trail'}, '296': {'name': 'Parade Route'}, '297': {'name': 'San Clemente Beach Trail'}, '298': {'name': 'Limekiln Canyon Road'}, '299': {'name': 'Limekiln Canyon Road'}, '300': {'name': 'Limekiln Canyon Road'}, '301': {'name': 'Tujunga Wash Path'}, '302': {'name': 'Limekiln Canyon Trail'}, '304': {'name': 'Valleyheart Greenway'}, '306': {'name': 'Potrero Ridge Trail'}, '307': {'name': 'Silas Lane Trail'}, '308': {'name': 'El Rincon Trail'}, '309': {'name': 'Sycamore Park Trail'}, '310': {'name': 'Sycamore Park Trail'}, '311': {'name': 'Sycamore Park Trail'}, '312': {'name': 'Park View Trail'}, '313': {'name': 'Park View Trail'}, '314': {'name': 'Borchard Trail'}, '318': {'name': 'Tujunga Wash Path'}, '319': {'name': 'Tujunga Wash Path'}, '320': {'name': 'Tujunga Wash Path'}, '321': {'name': 'Tujunga Wash Path'}, '322': {'name': 'Tujunga Wash Path'}, '323': {'name': 'Sidewalk'}, '324': {'name': 'Glade Avenue Path'}, '185': {'name': 'Duwamish Hill Preserve'}, '14': {'name': 'Wallace Falls'}, '4': {'name': 'West Tiger No. 3'}, '10': {'name': 'Discovery Park Loop'}, '9': {'name': 'Cougar Mountain Grand Traverse'}, '327': {'name': 'I 5 Trail'}, '328': {'name': 'I 5 Trail'}, '329': {'name': 'Henderson Connector'}, '36': {'name': 'Anti-Aircraft Peak'}, '5': {'name': 'Squak Mountain'}, '2': {'name': 'Little Si'}, '1': {'name': 'Mount Si (via Old Trail)'}, '149': {'name': 'Sendero Diez Vistas'}, '114': {'name': 'Big Cedar and Kennedy Falls Trail'}, '116': {'name': 'Brae Island Regional Park'}, '124': {'name': 'Crystal Falls'}, '133': {'name': 'Kanaka Creek Cliff Falls'}, '157': {'name': 'Tynehead Regional Park'}, '46': {'name': 'Norvan Falls'}, '19': {'name': 'Hanes Valley to Grouse Mountain'}, '17': {'name': 'Crown Mountain'}, '24': {'name': 'Lost Lake'}, '326': {'name': 'Rock Candy East'}, '330': {'name': 'Henderson Connector'}, '331': {'name': 'Watershed Park Loop'}, '332': {'name': 'Ellis Cove Trail'}, '333': {'name': 'Tumwater Hill Park Trails'}, '334': {'name': 'Tumwater Hill Park Trails'}, '335': {'name': 'Grass Lake Trail'}, '336': {'name': 'Grass Lake Trail'}, '337': {'name': 'Mission Creek Park'}, '338': {'name': 'ORV Park Tie'}, '339': {'name': 'I 5 Trail'}, '340': {'name': 'Yelm-Tenino Trail'}, '341': {'name': 'Tanner Trail'}, '342': {'name': 'Wingehaven Park'}, '343': {'name': 'Wingehaven Park'}, '344': {'name': 'Treefrog Loop Trail'}, '345': {'name': 'Powerline Trail'}, '346': {'name': 'Goose Rock Summit Trail'}, '347': {'name': 'Golf Course Trail'}, '348': {'name': 'Northeast Bergman Road'}, '349': {'name': 'parallel cable way'}, '350': {'name': 'parallel cable way'}, '351': {'name': 'High School Trail'}, '352': {'name': 'Heritage Trail'}, '353': {'name': 'Heritage Trail'}, '354': {'name': 'Ridge Trail'}, '355': {'name': 'Ravine Run'}, '356': {'name': 'White Horse Public Trail'}, '357': {'name': 'Fort Ward Hill Trail'}, '358': {'name': 'Bear Creek Trail'}, '359': {'name': 'Bear Creek Trail'}, '360': {'name': 'Lake to Lake Trail'}, '361': {'name': 'Eagle Trail'}, '362': {'name': 'Eagle Trail'}, '363': {'name': 'Lingering Trail'}, '364': {'name': 'Mill Creek Nature Reserves Path'}, '365': {'name': '20 Court Southeast connector'}, '366': {'name': 'CCF-Boeing'}, '367': {'name': 'CCF-Boeing'}, '368': {'name': 'Pipeline Road East'}, '369': {'name': 'Jackson Park Perimeter Trail'}, '370': {'name': 'Westside Trail'}, '371': {'name': 'Westside Trail'}, '372': {'name': 'Heritage Trail'}, '373': {'name': 'Highlands Trail'}, '374': {'name': 'May Creek Trail'}, '375': {'name': 'Cross Town Trail'}, '376': {'name': 'Spine Line'}, '377': {'name': 'Forest Paved Trail'}, '378': {'name': \"Pete's Path\"}, '379': {'name': 'Squak Mountain Access Trail'}, '380': {'name': 'Squak Mountain Access Trail'}, '381': {'name': 'Upland Interpretive Trail'}, '382': {'name': 'Clear Creek Trail'}, '383': {'name': 'I 90 Trail'}, '384': {'name': 'I 90 Trail'}, '385': {'name': 'Tolt Pipeline Trail'}, '386': {'name': 'Short Trail'}, '387': {'name': 'Short Trail'}, '388': {'name': 'Harrys Trail'}, '389': {'name': 'Mistletoe Loop'}, '390': {'name': 'Wilbert Trail'}, '391': {'name': 'Wilbert Trail'}, '392': {'name': 'Hidden Cove Trail #2'}, '393': {'name': 'Southeast 243rd Place'}, '394': {'name': 'Caboose'}, '395': {'name': 'Cushman Trail'}, '396': {'name': 'Cushman Trail'}, '397': {'name': 'Sunset Ravine Trail'}, '398': {'name': 'Abandoned Railroad Grade'}, '399': {'name': \"Cathy's Trail\"}, '400': {'name': 'Raven Trail'}, '401': {'name': 'Neiderprum Trail'}, '402': {'name': 'Cushman Trail'}, '403': {'name': 'Cable Line Trail'}, '404': {'name': 'Westlake Cycle Track'}, '405': {'name': 'Raven Trail'}, '406': {'name': \"Kari's Bog Trail\"}, '407': {'name': 'High Point Trail'}, '408': {'name': 'Kulshan Trail'}, '409': {'name': 'PSE Trail'}, '410': {'name': 'Sammamish River Trail'}, '411': {'name': 'Longfellow Creek Legacy Trail'}, '412': {'name': 'Longfellow Creek Legacy Trail'}, '413': {'name': 'Lower Forest Trail'}, '414': {'name': 'East Side Rail Corridor'}, '415': {'name': 'Coal Creek Trail'}, '416': {'name': 'Lewis Creek Trail'}, '417': {'name': 'Lewis Creek Trail'}, '418': {'name': \"Hugh's Delight\"}, '419': {'name': 'Volunteer'}, '420': {'name': 'McTavish Extension'}, '421': {'name': 'Cross Kirkland Corridor'}, '422': {'name': 'Cross Kirkland Corridor'}, '423': {'name': 'Oddfellows Trail'}, '424': {'name': 'Oddfellows Trail'}, '425': {'name': 'West Fakkema Road'}, '426': {'name': 'Gateway Trail'}, '427': {'name': 'Gateway Trail'}, '428': {'name': 'Tolt Pipeline Trail'}, '429': {'name': 'Cushman Trail'}, '430': {'name': 'Cushman Trail'}, '431': {'name': 'Route 66'}, '432': {'name': 'East Branch Trail'}, '433': {'name': 'Stone Way North'}, '434': {'name': 'Burke-Gilman Trail'}, '436': {'name': 'Baker View'}, '437': {'name': 'Waterfront Trail'}, '438': {'name': 'Cantharellus'}, '439': {'name': 'Walk-Up'}, '440': {'name': 'Burke-Gilman Trail'}, '441': {'name': 'Burke-Gilman Trail'}, '443': {'name': 'Highline Trail'}, '444': {'name': 'Volunteer'}, '445': {'name': 'Trail #2'}, '446': {'name': 'Trail #2'}, '447': {'name': 'Saddleback Trail'}, '448': {'name': 'Hoyt Road Trail'}, '449': {'name': 'Longfellow Creek Legacy Trail'}, '450': {'name': 'North Creek Trail'}, '451': {'name': 'Trail #5'}, '452': {'name': 'McTavish Extension'}, '453': {'name': 'Technical Trail'}, '454': {'name': 'North Creek Trail'}, '455': {'name': 'Coal Creek Trail'}, '456': {'name': \"Tam O'Shanter North Loop Trail\"}, '458': {'name': 'Washout Way Trail'}, '459': {'name': 'Busline Trail'}, '460': {'name': 'State Route 20'}, '461': {'name': 'Old Grand Ridge Trail Access'}, '462': {'name': 'Cheshiahud Lake Union Loop'}, '463': {'name': 'Wolf Tree Nature Trail'}, '464': {'name': 'East Side Rail Corridor'}, '465': {'name': 'East Side Rail Corridor'}, '466': {'name': 'Environmental Center Trail'}, '467': {'name': 'Schmitz Boulevard'}, '468': {'name': \"Saint Mark's Greenbelt Trail\"}, '469': {'name': 'Lakemont Highlands Trail'}, '470': {'name': 'South Bay Trail'}, '471': {'name': 'Lowell Park Trail'}, '472': {'name': '23rd Street Trail'}, '473': {'name': 'Ridge Trail'}, '474': {'name': '18th St. Connector'}, '475': {'name': \"Phil's Trail\"}, '476': {'name': \"Phil's Trail\"}, '477': {'name': 'Aeration Stabilization Basin (ASB) Trail'}, '478': {'name': 'Samish Crest Trail'}, '479': {'name': 'Samish Crest Trail'}, '480': {'name': 'South Bay Trail'}, '481': {'name': 'South Bay Trail'}, '482': {'name': 'Railroad Trail'}, '483': {'name': 'Railroad Trail'}, '484': {'name': 'Back Door'}, '485': {'name': 'Miranda'}, '486': {'name': 'Post Point Trail'}, '487': {'name': 'Railroad Trail'}, '488': {'name': 'Post Point Trail'}, '489': {'name': \"Hoag's Pond Trail\"}, '490': {'name': \"Hoag's Pond Trail\"}, '491': {'name': 'Silver Beach Road'}, '492': {'name': 'Connelly Creek Trail'}, '493': {'name': 'Connelly Creek Trail'}, '494': {'name': 'Happy Valley Park Trail'}, '495': {'name': 'Interurban Trail'}, '497': {'name': 'Mount Galbraith'}, '496': {'name': 'Simpson Nature Reserve'}, '502': {'name': 'Millard Canyon Falls'}, '519': {'name': 'Western Canyon'}, '504': {'name': 'Big Morongo Canyon Preserve'}, '506': {'name': 'Upper Big Sycamore Canyon'}, '507': {'name': 'Paradise Falls and Wildwood Regional Park'}, '508': {'name': 'Taco Peak'}, '509': {'name': 'Cave of Munits'}, '510': {'name': 'Satwiwa to Tri-Peaks'}, '511': {'name': 'Hacienda Hills'}, '536': {'name': 'Fish Canyon Falls'}, '512': {'name': 'Victory Trailhead Loop'}, '955': {'name': 'Chapman Falls'}, '514': {'name': 'Turnbull Canyon'}, '516': {'name': 'Cheeseboro and Palo Comado Canyons'}, '517': {'name': 'Vista Hermosa Natural Park'}, '518': {'name': 'Berlin Forest'}, '515': {'name': \"Amir's Garden\"}, '605': {'name': 'Ed Koch Queensboro Bridge Path'}, '606': {'name': 'Marine Parkway Bridge'}, '607': {'name': 'Marine Parkway Bridge'}, '608': {'name': 'Silver Lake Trail'}, '609': {'name': 'Clay Pit Road'}, '521': {'name': 'Glendale Peak'}, '525': {'name': 'Firebreak Trail to Griffith Observatory'}, '526': {'name': 'East Griffith Observatory Trail'}, '610': {'name': 'North Forty'}, '611': {'name': 'North Forty'}, '612': {'name': 'High Bridge'}, '613': {'name': 'High Bridge'}, '614': {'name': 'Old Croton Aqueduct Trail'}, '615': {'name': 'Old Croton Aqueduct Trail'}, '616': {'name': 'Old Croton Aqueduct State Park'}, '617': {'name': 'Cornish'}, '619': {'name': 'El Capitan'}, '620': {'name': 'Shore Road Greenway'}, '527': {'name': 'West Griffith Observatory Trail'}, '529': {'name': 'The Northside Loop'}, '530': {'name': 'Aliso and Wood Canyons'}, '532': {'name': 'Verdugo Peak via the Vital Link Trail'}, '534': {'name': 'Sacred Cove'}, '622': {'name': 'Breakneck Ridge Trail (White)'}, '623': {'name': 'Orange'}, '624': {'name': 'Orange'}, '625': {'name': 'White'}, '626': {'name': 'Blue'}, '627': {'name': 'Undercliff Trail (Yellow)'}, '628': {'name': 'Undercliff Trail (Yellow)'}, '629': {'name': 'Duffys Bridge Rd'}, '538': {'name': 'Wild Flower Hill at the Theodore Payne Foundation'}, '630': {'name': 'Blue Trail (Disneyland Spur)'}, '631': {'name': 'Green Trail (Old Dirt Jumps Spur)'}, '632': {'name': 'Orange Trail'}, '633': {'name': 'Vine Path'}, '634': {'name': 'Vine Path'}, '635': {'name': 'Green Trail (Meadow Extension Connector)'}, '636': {'name': 'South Loop'}, '637': {'name': \"Middle Sandro's\"}, '543': {'name': 'Beacon Hill'}, '544': {'name': 'Corral Canyon'}, '638': {'name': 'Old Croton Aqueduct State Park'}, '639': {'name': 'Old Croton Aqueduct State Park'}, '640': {'name': 'Old Croton Aqueduct State Park'}, '545': {'name': 'Escondido Falls'}, '546': {'name': 'Hollywood Reservoir'}, '547': {'name': 'Wisdom Tree and Cahuenga Peak'}, '548': {'name': 'Trebek Open Space'}, '549': {'name': 'Skull Rock via Temescal Canyon'}, '641': {'name': 'Old Croton Aqueduct State Park'}, '550': {'name': 'Baldwin Hills Scenic Overlook'}, '551': {'name': 'Community Loop Trail'}, '552': {'name': 'Jones Peak via Bailey Canyon'}, '553': {'name': 'Bee Rock and the Old L.A. Zoo'}, '554': {'name': 'Murphy Ranch'}, '642': {'name': 'Old Croton Aqueduct State Park'}, '643': {'name': 'Old Croton Aqueduct State Park'}, '644': {'name': 'Shore Road'}, '645': {'name': 'O Trail - Manor Street Trail'}, '555': {'name': 'Mount Hollywood'}, '556': {'name': 'Ernest E. Debs Regional Park'}, '558': {'name': 'Elysian Park West Loop'}, '559': {'name': 'Corralitas Rail Path'}, '560': {'name': 'Malibu Lagoon State Beach'}, '646': {'name': 'W Trail - Strang Trail'}, '647': {'name': 'Old Croton Aqueduct Trailway'}, '648': {'name': 'Old Croton Aqueduct State Park Trailway'}, '649': {'name': 'Old Croton Aqueduct State Park Trailway'}, '650': {'name': 'Old Croton Aqueduct State Park'}, '651': {'name': 'Old Croton Acquaduct State Park Trailway'}, '652': {'name': 'Old Croton Aqueduct State Park'}, '653': {'name': 'Old Croton Aqueduct State Park'}, '561': {'name': 'The Hollywood Sign (Mount Lee)'}, '562': {'name': 'Parker Mesa via Los Liones Trail'}, '563': {'name': 'Eaton Canyon Falls'}, '564': {'name': 'Bertha Peak'}, '654': {'name': 'Old Croton Aqueduct State Park'}, '655': {'name': 'Green Path'}, '656': {'name': 'alternative to Old Croton Aqueduct State Park path'}, '657': {'name': 'Old Croton Aqueduct State Park'}, '566': {'name': 'Beaudry Loop'}, '568': {'name': 'Old Boney Trail'}, '569': {'name': 'Mount Lukens via Haines Canyon'}, '658': {'name': 'O Trail'}, '659': {'name': 'G Trail - Yorktown Trailway'}, '660': {'name': 'Brooklyn Bridge'}, '661': {'name': 'Brooklyn Bridge'}, '662': {'name': 'Brooklyn Bridge'}, '663': {'name': 'Brooklyn Bridge'}, '664': {'name': 'East Firebreak'}, '667': {'name': 'blue trail'}, '571': {'name': 'Solstice Canyon'}, '572': {'name': 'Runyon Canyon'}, '573': {'name': 'Cactus Loop'}, '574': {'name': 'Hollenbeck Canyon'}, '575': {'name': 'San Ysidro Mountain'}, '576': {'name': 'El Prado Loop'}, '577': {'name': 'Secret Canyon Trail'}, '668': {'name': 'blue trail'}, '669': {'name': 'orange trail'}, '578': {'name': 'Black Mountain'}, '579': {'name': 'Boden Canyon'}, '580': {'name': 'Guajome Regional Park'}, '581': {'name': 'Bernardo Mountain'}, '582': {'name': 'Guatay Mountain'}, '583': {'name': 'Kwaay Paay, Mission Dam, and Kumeyaay Lake'}, '584': {'name': 'Double Peak'}, '670': {'name': '(u)'}, '671': {'name': '(u)'}, '672': {'name': 'Breakneck Ridge Trail (White)'}, '585': {'name': 'The Bayside Trail'}, '586': {'name': 'Cowles Mountain and Pyles Peak'}, '587': {'name': 'Mount Woodson'}, '588': {'name': 'Clevenger Canyon North'}, '589': {'name': 'Torrey Pines Reserve Extension'}, '590': {'name': 'Los Peñasquitos Canyon'}, '673': {'name': 'Wilkinson Memorial Trail (Yellow)'}, '674': {'name': 'Ridder Pond Walking path'}, '675': {'name': 'Cooney Hill Road'}, '676': {'name': 'Cooney Hill Road'}, '677': {'name': 'Old Croton Aqueduct State Park'}, '591': {'name': 'Batiquitos Lagoon'}, '592': {'name': 'Daley Ranch'}, '593': {'name': 'Razor Point / Beach / Broken Hill Loop'}, '594': {'name': 'Hellhole Canyon'}, '196': {'name': 'Echo Mountain and Inspiration Point'}, '198': {'name': 'Fryman Canyon'}, '956': {'name': 'Soames Hill'}, '565': {'name': 'Skyline Ridge via Pine Knot Trail'}, '595': {'name': 'Lake Padden Loop'}, '557': {'name': \"Angel's Point\"}, '596': {'name': 'John Muir Nature Trail'}, '597': {'name': 'Clay Pit Road'}, '598': {'name': 'Clay Pit Road'}, '599': {'name': 'Appalachian Trail'}, '600': {'name': 'Jacob Riis Boardwalk'}, '601': {'name': 'Williamsburg Bridge Bikepath'}, '602': {'name': 'Williamsburg Bridge Bikepath'}, '603': {'name': 'Brooklyn Bridge'}, '604': {'name': 'Ed Koch Queensboro Bridge Path'}, '722': {'name': \"Anthony's Nose\"}, '678': {'name': 'Bear Mountain Loop'}, '680': {'name': 'Unnamed trailhead'}, '681': {'name': 'Unnamed trailhead'}, '683': {'name': 'Unnamed trailhead'}, '684': {'name': 'Unnamed trailhead'}, '685': {'name': 'Unnamed trailhead'}, '687': {'name': 'Unnamed trailhead'}, '688': {'name': 'Unnamed trailhead'}, '689': {'name': 'Unnamed trailhead'}, '690': {'name': 'Whiskey creek'}, '692': {'name': 'EagleVail Trail'}, '693': {'name': 'Perimeter Trail'}, '724': {'name': 'Half Dome via The Mist Trail'}, '694': {'name': ' Meadow Mountain / Line Shack and Whiskey Creek'}, '697': {'name': 'Wild West Ridge'}, '695': {'name': 'Peaks Trail'}, '696': {'name': 'Berry Picker'}, '699': {'name': 'Heybrook Lookout Bike/Hike'}, '702': {'name': 'Bridal Veil Falls'}, '700': {'name': 'White Chuck Bench Bike/Hike'}, '698': {'name': 'Lake Serene Bike/Hike'}, '703': {'name': 'Unnamed trailhead'}, '704': {'name': 'Mount Wilson Trail'}, '705': {'name': 'Unnamed trailhead'}, '706': {'name': 'Unnamed trailhead'}, '707': {'name': 'Arroyo Seco Road'}, '709': {'name': 'Garcia Trail'}, '710': {'name': 'Unnamed trailhead'}, '711': {'name': 'Unnamed trailhead'}, '712': {'name': 'Unnamed trailhead'}, '713': {'name': 'Bailey Canyon Trail'}, '714': {'name': 'Unnamed trailhead'}, '715': {'name': 'Altadena Crest Trail'}, '716': {'name': 'Altadena Crest Trail'}, '126': {'name': 'Dam Mountain'}, '719': {'name': 'Dawn Mine and the Sunset Ridge Trail'}, '720': {'name': 'Cerro Negro Lookout via Descanso Trail'}, '721': {'name': \"Randall's / Ward's Loop\"}, '723': {'name': 'Dog Lake and Lembert Dome'}, '726': {'name': 'Great Kills Park'}, '728': {'name': 'Tilden Regional Park Loop'}, '679': {'name': ' Breakneck Ridge (out and back)'}, '727': {'name': 'Tilden Park to Sibley Skyline Through Hike'}, '729': {'name': 'New london trail'}, '725': {'name': 'Break Neck Ridge Loop'}, '730': {'name': 'Aravipa Canyon'}, '3': {'name': 'Poo Poo Point (High School Trail)'}, '755': {'name': 'Xianjiyan 2'}, '759': {'name': 'Max Delta Trail'}, '731': {'name': \"Debbie's View via Margaret's Way Trailhead\"}, '735': {'name': 'Bicycling the Lake Ray Roberts Greenbelt Trail'}, '760': {'name': 'Marine Dr Trail to Blue Lake Regional Park'}, '734': {'name': 'Gateway Park Mountain Biking Loop'}, '7': {'name': 'Rattlesnake Mountain '}, '737': {'name': 'San Elijo Lagoon'}, '738': {'name': 'Mount Kimball via Finger Rock Trail'}, '739': {'name': 'Henninger Flats'}, '744': {'name': 'Oak Canyon'}, '741': {'name': 'Beverly Canyon to Javelina Canyon'}, '742': {'name': 'Hidden Valley via Mormon Trail'}, '743': {'name': 'Telegraph Pass to Kiwanis Trail'}, '745': {'name': 'La Jolla Shores to Torrey Pines Beach'}, '746': {'name': 'Squaw Mountain (Squaw Peak)'}, '747': {'name': 'Heart Rock'}, '748': {'name': 'Strawberry Peak Lookout'}, '749': {'name': 'Stonewall-Panoramic Trail'}, '750': {'name': 'Tahquitz Canyon'}, '751': {'name': 'Echo Canyon Trail &#8211; Camelback Mountain'}, '756': {'name': 'Granite Mountain'}, '753': {'name': 'Qingtiangang Grassland'}, '754': {'name': 'Xianjiyan Trail'}, '166': {'name': 'Horsetooth Mountain'}, '758': {'name': 'Dequindre Cut Greenway'}, '761': {'name': 'National Trail'}, '763': {'name': \"Devil's Backbone- Hunter Loop\"}, '764': {'name': 'Zuma Ridge'}, '765': {'name': 'Tiger Mountain Through Hike'}, '701': {'name': 'Bicycling the Middle Fork Snoqualmie River'}, '767': {'name': 'Santa Susana Pass State Historic Park'}, '768': {'name': 'Pico de Peñalara (Summit)'}, '769': {'name': 'Pico de Peñalara (Summit - Loop Hike)'}, '770': {'name': 'Los Morales en Cordoba'}, '771': {'name': 'Cholla Trail to Camelback Mountain'}, '772': {'name': 'Cactus to Clouds (C2C)'}, '943': {'name': 'Baden Powell Deep Cove to Lynn Canyon'}, '944': {'name': 'Joffre Lakes'}, '946': {'name': 'Wedgemount Lake'}, '957': {'name': 'Cliff Gilker Park'}, '990': {'name': 'Dorman Point'}, '958': {'name': 'Hidden Grove'}, '1002': {'name': 'Rainbow Lake'}, '968': {'name': 'Bowen Lookout'}, '959': {'name': 'Smuggler Cove Marine Provincial Park'}, '969': {'name': 'Skywalk North Loop'}, '980': {'name': 'Smoke Bluffs Park'}, '1056': {'name': 'Sumas Mountain'}, '981': {'name': \"Fisherman's Trail\"}, '960': {'name': 'Porpoise Bay'}, '961': {'name': 'Burnett Falls'}, '962': {'name': 'Homesite Caves Trail'}, '982': {'name': 'Pitt River Regional Greenway'}, '1083': {'name': 'Two Canyon Loop'}, '983': {'name': 'Bosumarne Falls'}, '1095': {'name': 'Burnaby Lake'}, '963': {'name': 'Pitt Wildlife Loop'}, '964': {'name': 'Vedder River Rotary Trail'}, '965': {'name': 'Chilliwack Community Forest'}, '966': {'name': 'Buntzen Lake'}, '967': {'name': 'Demon Ridge'}, '938': {'name': 'Big Cedar and Kennedy Falls Trail'}, '939': {'name': 'Helm Lake'}, '940': {'name': 'Swan Falls Viewpoint'}, '941': {'name': 'Dilly Dally Loop'}, '942': {'name': 'Sendero Diez Vistas'}, '945': {'name': 'Othello Tunnels'}, '947': {'name': 'Lynn Loop'}, '733': {'name': 'Poo Poo Point (via Chirico Trail)'}, '732': {'name': 'Squak Mountain Traverse (through hike)'}, '948': {'name': 'Homesite Creek Falls'}, '949': {'name': 'Mount Daniel'}, '950': {'name': 'Francis Point Provincial Park'}, '951': {'name': 'Triangle Lake'}, '952': {'name': 'Sargeant Bay'}, '970': {'name': 'Iceberg Lake'}, '971': {'name': 'Crooked Falls'}, '972': {'name': 'Slesse Memorial Trail'}, '973': {'name': 'Ascent Trail'}, '984': {'name': 'Bert Flinn Park'}, '974': {'name': 'Flood Falls'}, '975': {'name': 'Hope Lookout Trail'}, '976': {'name': 'Vedder Ridge Trail'}, '977': {'name': 'Golden Ears Canyon Loop'}, '978': {'name': 'Colony Farm Regional Park'}, '979': {'name': 'Murrin Loop Trail'}, '985': {'name': 'Downes Bowl Trail'}, '986': {'name': 'Watersprite Lake'}, '987': {'name': 'Twin Falls'}, '988': {'name': 'Whistler Train Wreck'}, '989': {'name': 'Abby Grind'}, '991': {'name': 'Crater Rim Trail'}, '1005': {'name': 'Whyte Lake'}, '992': {'name': 'Tunnel Bluffs'}, '993': {'name': 'Seven Sisters Trail'}, '994': {'name': 'Foreshore Trail'}, '995': {'name': 'Conflict Lake'}, '996': {'name': 'Skyline Trail'}, '1004': {'name': 'Woodland Walk Trail'}, '997': {'name': 'Cascade Falls'}, '998': {'name': 'Mystery Lake'}, '999': {'name': \"Al's Habrich Ridge Trail\"}, '1000': {'name': 'Mount Fromme'}, '1001': {'name': 'Crown Mountain'}, '1003': {'name': 'Mount Strachan'}, '1006': {'name': 'Serpentine Fen Nature Trail'}, '1007': {'name': 'Velodrome Trail'}, '1008': {'name': 'Lions Bay Loop'}, '1009': {'name': 'Dam Mountain'}, '1010': {'name': 'Thunderbird Ridge'}, '1011': {'name': 'Little Goat Mountain'}, '1012': {'name': 'Whippoorwill Point Trail'}, '1013': {'name': 'Hanes Valley Trail'}, '1014': {'name': 'Golden Ears'}, '1015': {'name': 'Blackcomb Meadows'}, '1016': {'name': 'High Note Trail'}, '1017': {'name': 'Coquitlam Crunch'}, '1018': {'name': 'Ancient Cedars Trail'}, '1019': {'name': 'Lost Lake Nature Trail'}, '1020': {'name': 'Hicks Lake'}, '1021': {'name': 'Harrison Grind'}, '1022': {'name': 'Shoreline Trail'}, '1023': {'name': 'Reifel Bird Sanctuary'}, '1024': {'name': 'Mount Thom'}, '1025': {'name': 'Bridal Veil Falls'}, '1026': {'name': 'BCMC Trail'}, '1027': {'name': 'Cheam Lake Wetlands'}, '1028': {'name': 'Maplewood Flats'}, '1029': {'name': 'Brohm Lake'}, '1030': {'name': 'Sea To Summit Trail'}, '1031': {'name': 'Capilano Pacific Trail'}, '1032': {'name': 'Derby Reach Regional Park'}, '1033': {'name': 'Aldergrove Regional Park'}, '1034': {'name': 'Campbell Valley Regional Park'}, '1035': {'name': 'Tynehead Regional Park'}, '1036': {'name': 'Crystal Falls'}, '1037': {'name': 'Burnaby Mountain'}, '1038': {'name': 'Petgill Lake'}, '1039': {'name': 'Whytecliff Park'}, '1040': {'name': 'Brae Island Regional Park'}, '1041': {'name': 'Iona Beach Regional Park'}, '1042': {'name': 'Burns Bog Delta Nature Reserve'}, '1043': {'name': 'Boundary Bay Regional Park'}, '1044': {'name': 'Kanaka Creek Cliff Falls'}, '1045': {'name': 'Kanaka Creek Riverfront'}, '1046': {'name': 'Lower Hollyburn'}, '1047': {'name': 'Baden Powell Lynn Canyon to Grouse'}, '1048': {'name': 'Goldie Lake'}, '1049': {'name': 'Mount Seymour'}, '1050': {'name': 'Mike Lake'}, '1051': {'name': 'Mundy Park'}, '1052': {'name': 'Jug Island Beach'}, '1053': {'name': 'Admiralty Point'}, '1054': {'name': 'Eagle Bluffs'}, '1055': {'name': 'Hollyburn Mountain'}, '1057': {'name': 'Stawamus Chief'}, '1058': {'name': 'Shadow Lake'}, '1059': {'name': \"St Mark's Summit\"}, '1060': {'name': 'Rice Lake'}, '1065': {'name': 'Alice Lake'}, '1061': {'name': 'Minnekhada Regional Park'}, '1062': {'name': 'Lynn Peak'}, '1063': {'name': 'Deer Lake'}, '1064': {'name': 'Brothers Creek Loop'}, '1066': {'name': 'Brunswick Point'}, '1067': {'name': 'Stanley Park'}, '1068': {'name': 'Sasamat Lake'}, '1069': {'name': 'Panorama Ridge'}, '1070': {'name': 'Pacific Spirit Regional Park'}, '1071': {'name': 'Norvan Falls'}, '1072': {'name': 'Nairn Falls'}, '1087': {'name': 'Goat Mountain'}, '1073': {'name': 'Mount Gardner'}, '1074': {'name': 'Mount Cheam'}, '1075': {'name': 'Rolley Lake'}, '1076': {'name': 'Quarry Rock'}, '1077': {'name': 'Lindeman Lake'}, '1078': {'name': 'Lighthouse Park'}, '1094': {'name': 'Capilano Canyon'}, '1079': {'name': 'Levette Lake Loop'}, '1080': {'name': 'Hayward Lake'}, '1081': {'name': 'Widgeon Falls'}, '1082': {'name': 'UBC Malcolm Knapp Research Forest'}, '1084': {'name': 'The Lions Binkert Trail'}, '1085': {'name': 'Grouse Grind'}, '1086': {'name': 'Gold Creek Falls'}, '1088': {'name': 'Garibaldi Lake'}, '1089': {'name': 'Elk Mountain'}, '1090': {'name': 'Dog Mountain'}, '1091': {'name': 'Deas Island Regional Park'}, '1092': {'name': 'Cypress Falls'}, '1093': {'name': 'Cheakamus Lake'}, '59': {'name': 'Cougar Mountain Traverse from Newcastle'}, '1096': {'name': 'Brandywine Meadows'}, '1097': {'name': 'Brandywine Falls'}, '1098': {'name': 'Black Tusk'}, '1099': {'name': 'High Falls Creek'}, '1100': {'name': 'Killarney Lake'}, '1101': {'name': 'Teapot Hill'}, '1102': {'name': 'Elfin Lakes'}, '1103': {'name': 'Frosty Mountain'}, '1105': {'name': 'Mount Si - Trailhead Direct'}}\n"
     ]
    }
   ],
   "source": [
    "f = open(\"destinations_mapping_Jul-30-18.csv\")\n",
    "\n",
    "reader = csv.reader(f)\n",
    "\n",
    "\n",
    "destinations = {}\n",
    "\n",
    "\n",
    "# The index at the end of the for loop just skips the first row which is the header in the csv file\n",
    "next(reader)\n",
    "for row in reader:\n",
    "    destinations[row[0]] = {'name':row[1]}\n",
    "\n",
    "print(destinations)"
   ]
  },
  {
   "cell_type": "markdown",
   "metadata": {},
   "source": [
    "# Loop through the rows in the dataframe, geocode, add entry to database"
   ]
  },
  {
   "cell_type": "code",
   "execution_count": 12,
   "metadata": {},
   "outputs": [
    {
     "ename": "TypeError",
     "evalue": "'distinctkey' is an invalid keyword argument for Itenerary",
     "output_type": "error",
     "traceback": [
      "\u001b[0;31m---------------------------------------------------------------------------\u001b[0m",
      "\u001b[0;31mTypeError\u001b[0m                                 Traceback (most recent call last)",
      "\u001b[0;32m<ipython-input-12-2c29b44893ea>\u001b[0m in \u001b[0;36m<module>\u001b[0;34m()\u001b[0m\n\u001b[1;32m     82\u001b[0m                                       \u001b[0mpostalcode\u001b[0m\u001b[0;34m=\u001b[0m\u001b[0mgeocodeInfo\u001b[0m\u001b[0;34m[\u001b[0m\u001b[0;34m'postalCode'\u001b[0m\u001b[0;34m]\u001b[0m\u001b[0;34m,\u001b[0m\u001b[0;34m\u001b[0m\u001b[0m\n\u001b[1;32m     83\u001b[0m                                       \u001b[0mpostalcodemapped\u001b[0m\u001b[0;34m=\u001b[0m\u001b[0mzipCodeMapped\u001b[0m\u001b[0;34m,\u001b[0m\u001b[0;34m\u001b[0m\u001b[0m\n\u001b[0;32m---> 84\u001b[0;31m                                       valid=valid)\n\u001b[0m\u001b[1;32m     85\u001b[0m         \u001b[0;31m# If valid is false, just fill in the information that we have from the pandas data frame\u001b[0m\u001b[0;34m\u001b[0m\u001b[0;34m\u001b[0m\u001b[0m\n\u001b[1;32m     86\u001b[0m         \u001b[0;32melse\u001b[0m\u001b[0;34m:\u001b[0m\u001b[0;34m\u001b[0m\u001b[0m\n",
      "\u001b[0;32m<string>\u001b[0m in \u001b[0;36m__init__\u001b[0;34m(self, **kwargs)\u001b[0m\n",
      "\u001b[0;32m/Library/Frameworks/Python.framework/Versions/3.6/lib/python3.6/site-packages/sqlalchemy/orm/state.py\u001b[0m in \u001b[0;36m_initialize_instance\u001b[0;34m(*mixed, **kwargs)\u001b[0m\n\u001b[1;32m    415\u001b[0m         \u001b[0;32mexcept\u001b[0m\u001b[0;34m:\u001b[0m\u001b[0;34m\u001b[0m\u001b[0m\n\u001b[1;32m    416\u001b[0m             \u001b[0;32mwith\u001b[0m \u001b[0mutil\u001b[0m\u001b[0;34m.\u001b[0m\u001b[0msafe_reraise\u001b[0m\u001b[0;34m(\u001b[0m\u001b[0;34m)\u001b[0m\u001b[0;34m:\u001b[0m\u001b[0;34m\u001b[0m\u001b[0m\n\u001b[0;32m--> 417\u001b[0;31m                 \u001b[0mmanager\u001b[0m\u001b[0;34m.\u001b[0m\u001b[0mdispatch\u001b[0m\u001b[0;34m.\u001b[0m\u001b[0minit_failure\u001b[0m\u001b[0;34m(\u001b[0m\u001b[0mself\u001b[0m\u001b[0;34m,\u001b[0m \u001b[0margs\u001b[0m\u001b[0;34m,\u001b[0m \u001b[0mkwargs\u001b[0m\u001b[0;34m)\u001b[0m\u001b[0;34m\u001b[0m\u001b[0m\n\u001b[0m\u001b[1;32m    418\u001b[0m \u001b[0;34m\u001b[0m\u001b[0m\n\u001b[1;32m    419\u001b[0m     \u001b[0;32mdef\u001b[0m \u001b[0mget_history\u001b[0m\u001b[0;34m(\u001b[0m\u001b[0mself\u001b[0m\u001b[0;34m,\u001b[0m \u001b[0mkey\u001b[0m\u001b[0;34m,\u001b[0m \u001b[0mpassive\u001b[0m\u001b[0;34m)\u001b[0m\u001b[0;34m:\u001b[0m\u001b[0;34m\u001b[0m\u001b[0m\n",
      "\u001b[0;32m/Library/Frameworks/Python.framework/Versions/3.6/lib/python3.6/site-packages/sqlalchemy/util/langhelpers.py\u001b[0m in \u001b[0;36m__exit__\u001b[0;34m(self, type_, value, traceback)\u001b[0m\n\u001b[1;32m     64\u001b[0m             \u001b[0mself\u001b[0m\u001b[0;34m.\u001b[0m\u001b[0m_exc_info\u001b[0m \u001b[0;34m=\u001b[0m \u001b[0;32mNone\u001b[0m   \u001b[0;31m# remove potential circular references\u001b[0m\u001b[0;34m\u001b[0m\u001b[0m\n\u001b[1;32m     65\u001b[0m             \u001b[0;32mif\u001b[0m \u001b[0;32mnot\u001b[0m \u001b[0mself\u001b[0m\u001b[0;34m.\u001b[0m\u001b[0mwarn_only\u001b[0m\u001b[0;34m:\u001b[0m\u001b[0;34m\u001b[0m\u001b[0m\n\u001b[0;32m---> 66\u001b[0;31m                 \u001b[0mcompat\u001b[0m\u001b[0;34m.\u001b[0m\u001b[0mreraise\u001b[0m\u001b[0;34m(\u001b[0m\u001b[0mexc_type\u001b[0m\u001b[0;34m,\u001b[0m \u001b[0mexc_value\u001b[0m\u001b[0;34m,\u001b[0m \u001b[0mexc_tb\u001b[0m\u001b[0;34m)\u001b[0m\u001b[0;34m\u001b[0m\u001b[0m\n\u001b[0m\u001b[1;32m     67\u001b[0m         \u001b[0;32melse\u001b[0m\u001b[0;34m:\u001b[0m\u001b[0;34m\u001b[0m\u001b[0m\n\u001b[1;32m     68\u001b[0m             \u001b[0;32mif\u001b[0m \u001b[0;32mnot\u001b[0m \u001b[0mcompat\u001b[0m\u001b[0;34m.\u001b[0m\u001b[0mpy3k\u001b[0m \u001b[0;32mand\u001b[0m \u001b[0mself\u001b[0m\u001b[0;34m.\u001b[0m\u001b[0m_exc_info\u001b[0m \u001b[0;32mand\u001b[0m \u001b[0mself\u001b[0m\u001b[0;34m.\u001b[0m\u001b[0m_exc_info\u001b[0m\u001b[0;34m[\u001b[0m\u001b[0;36m1\u001b[0m\u001b[0;34m]\u001b[0m\u001b[0;34m:\u001b[0m\u001b[0;34m\u001b[0m\u001b[0m\n",
      "\u001b[0;32m/Library/Frameworks/Python.framework/Versions/3.6/lib/python3.6/site-packages/sqlalchemy/util/compat.py\u001b[0m in \u001b[0;36mreraise\u001b[0;34m(tp, value, tb, cause)\u001b[0m\n\u001b[1;32m    185\u001b[0m         \u001b[0;32mif\u001b[0m \u001b[0mvalue\u001b[0m\u001b[0;34m.\u001b[0m\u001b[0m__traceback__\u001b[0m \u001b[0;32mis\u001b[0m \u001b[0;32mnot\u001b[0m \u001b[0mtb\u001b[0m\u001b[0;34m:\u001b[0m\u001b[0;34m\u001b[0m\u001b[0m\n\u001b[1;32m    186\u001b[0m             \u001b[0;32mraise\u001b[0m \u001b[0mvalue\u001b[0m\u001b[0;34m.\u001b[0m\u001b[0mwith_traceback\u001b[0m\u001b[0;34m(\u001b[0m\u001b[0mtb\u001b[0m\u001b[0;34m)\u001b[0m\u001b[0;34m\u001b[0m\u001b[0m\n\u001b[0;32m--> 187\u001b[0;31m         \u001b[0;32mraise\u001b[0m \u001b[0mvalue\u001b[0m\u001b[0;34m\u001b[0m\u001b[0m\n\u001b[0m\u001b[1;32m    188\u001b[0m \u001b[0;34m\u001b[0m\u001b[0m\n\u001b[1;32m    189\u001b[0m \u001b[0;32melse\u001b[0m\u001b[0;34m:\u001b[0m\u001b[0;34m\u001b[0m\u001b[0m\n",
      "\u001b[0;32m/Library/Frameworks/Python.framework/Versions/3.6/lib/python3.6/site-packages/sqlalchemy/orm/state.py\u001b[0m in \u001b[0;36m_initialize_instance\u001b[0;34m(*mixed, **kwargs)\u001b[0m\n\u001b[1;32m    412\u001b[0m \u001b[0;34m\u001b[0m\u001b[0m\n\u001b[1;32m    413\u001b[0m         \u001b[0;32mtry\u001b[0m\u001b[0;34m:\u001b[0m\u001b[0;34m\u001b[0m\u001b[0m\n\u001b[0;32m--> 414\u001b[0;31m             \u001b[0;32mreturn\u001b[0m \u001b[0mmanager\u001b[0m\u001b[0;34m.\u001b[0m\u001b[0moriginal_init\u001b[0m\u001b[0;34m(\u001b[0m\u001b[0;34m*\u001b[0m\u001b[0mmixed\u001b[0m\u001b[0;34m[\u001b[0m\u001b[0;36m1\u001b[0m\u001b[0;34m:\u001b[0m\u001b[0;34m]\u001b[0m\u001b[0;34m,\u001b[0m \u001b[0;34m**\u001b[0m\u001b[0mkwargs\u001b[0m\u001b[0;34m)\u001b[0m\u001b[0;34m\u001b[0m\u001b[0m\n\u001b[0m\u001b[1;32m    415\u001b[0m         \u001b[0;32mexcept\u001b[0m\u001b[0;34m:\u001b[0m\u001b[0;34m\u001b[0m\u001b[0m\n\u001b[1;32m    416\u001b[0m             \u001b[0;32mwith\u001b[0m \u001b[0mutil\u001b[0m\u001b[0;34m.\u001b[0m\u001b[0msafe_reraise\u001b[0m\u001b[0;34m(\u001b[0m\u001b[0;34m)\u001b[0m\u001b[0;34m:\u001b[0m\u001b[0;34m\u001b[0m\u001b[0m\n",
      "\u001b[0;32m/Library/Frameworks/Python.framework/Versions/3.6/lib/python3.6/site-packages/sqlalchemy/ext/declarative/base.py\u001b[0m in \u001b[0;36m_declarative_constructor\u001b[0;34m(self, **kwargs)\u001b[0m\n\u001b[1;32m    697\u001b[0m             raise TypeError(\n\u001b[1;32m    698\u001b[0m                 \u001b[0;34m\"%r is an invalid keyword argument for %s\"\u001b[0m \u001b[0;34m%\u001b[0m\u001b[0;34m\u001b[0m\u001b[0m\n\u001b[0;32m--> 699\u001b[0;31m                 (k, cls_.__name__))\n\u001b[0m\u001b[1;32m    700\u001b[0m         \u001b[0msetattr\u001b[0m\u001b[0;34m(\u001b[0m\u001b[0mself\u001b[0m\u001b[0;34m,\u001b[0m \u001b[0mk\u001b[0m\u001b[0;34m,\u001b[0m \u001b[0mkwargs\u001b[0m\u001b[0;34m[\u001b[0m\u001b[0mk\u001b[0m\u001b[0;34m]\u001b[0m\u001b[0;34m)\u001b[0m\u001b[0;34m\u001b[0m\u001b[0m\n\u001b[1;32m    701\u001b[0m \u001b[0m_declarative_constructor\u001b[0m\u001b[0;34m.\u001b[0m\u001b[0m__name__\u001b[0m \u001b[0;34m=\u001b[0m \u001b[0;34m'__init__'\u001b[0m\u001b[0;34m\u001b[0m\u001b[0m\n",
      "\u001b[0;31mTypeError\u001b[0m: 'distinctkey' is an invalid keyword argument for Itenerary"
     ]
    }
   ],
   "source": [
    "# Loop through the subsetted pandas data frame\n",
    "\n",
    "# Uncomment the code below to loop through the the sample data frame\n",
    "# for index, row in sampleDf.iterrows():\n",
    "\n",
    "for index, row in sampleDf.iterrows():\n",
    "  \n",
    "\n",
    "    # Pull out the primary key into a variable\n",
    "    testKey = row[\"primary_key\"]\n",
    "    \n",
    "    # Check to see if that distinctID is in the data base\n",
    "    # See this post: https://stackoverflow.com/questions/6587879/how-to-elegantly-check-the-existence-of-an-object-instance-variable-and-simultan?utm_medium=organic&utm_source=google_rich_qa&utm_campaign=google_rich_qa\n",
    "    entryExists = session.query(exists().where(Itenerary.distinctKey==testKey)).scalar()\n",
    "\n",
    "    # If the entry is not in the database\n",
    "    if not entryExists:\n",
    "    \n",
    "        # Get the string to be geocoded\n",
    "        locationToGeocode = row[\"startFromLocation\"]\n",
    "\n",
    "        # Try to run the geocode function that returns a dictionary of information\n",
    "        try:\n",
    "            geocodeInfo = geocode(locationToGeocode)\n",
    "            # If geocoding works, set valid to tre\n",
    "            valid = True\n",
    "\n",
    "        # If the geocode function doesn't work set valid to false\n",
    "        except:\n",
    "            valid = False \n",
    "\n",
    "        # If valid is true create a database entry with information from the dataframe, and the returned geocode informaiton\n",
    "        if valid:\n",
    "            \n",
    "            # Sometimes, such as when a generic city is sent to the geocode() function a geometric center\n",
    "            # is returned, this means there is no postal code\n",
    "            \n",
    "            # In this case, we can set the postalCode to One\n",
    "            if not 'postalCode' in geocodeInfo:\n",
    "                geocodeInfo['postalCode'] = \"none\"\n",
    "\n",
    "            \n",
    "            # Mapp the gps coordinates returned to the zip code polygons\n",
    "            zipCodeMapped = mapToPoly(geocodeInfo['lat'], geocodeInfo['lng'])\n",
    "            \n",
    "            # TODO:\n",
    "            # EXPAND THIS MAPPING TO OTHER AREAS\n",
    "            \n",
    "            \n",
    "            ## Get selected Destination Names\n",
    "            # Pull the selected destination name\n",
    "            selectedDestinationName = row[\"selectedDestination_name\"]\n",
    "            \n",
    "            if not selectedDestinationName:\n",
    "                \n",
    "                key = str(row[\"selectedDestination_id\"])\n",
    "                \n",
    "                if key in destinations:\n",
    "            \n",
    "                    # Pull the data out from the dictionary that was created in the cell above\n",
    "                    newName = destinations[str(row[\"selectedDestination_id\"])]['name']\n",
    "        \n",
    "                    # Add the new name to the new row\n",
    "                    selectedDestinationName  = newName\n",
    "            \n",
    "                # In the case that there is destination that corresponds mark\n",
    "                else:\n",
    "                \n",
    "                    # TODO: CONSIDER CHANGING THE NAME OF THIS TO SOMETHING ELSE\n",
    "                    selectedDestinationName = \"DELETED\"\n",
    "                \n",
    "            databaseEntry = Itenerary(distinctkey=row[\"primary_key\"],\n",
    "                                      numberitinerariesReturned=row[\"numItinerariesReturned\"],\n",
    "                                      selecteddestination_id=row[\"selectedDestination_id\"],\n",
    "                                      selecteddestination_name=selectedDestinationName,\n",
    "                                      startfromlocation=row[\"startFromLocation\"],\n",
    "                                      departuredate=row[\"departureDate\"],\n",
    "                                      # Get data from python dictionary returned from geocode() function\n",
    "                                      formatted_address=geocodeInfo['formatted_address'],\n",
    "                                      lat=geocodeInfo['lat'],\n",
    "                                      lng=geocodeInfo['lng'],\n",
    "                                      postalcode=geocodeInfo['postalCode'],\n",
    "                                      postalcodemapped=zipCodeMapped,\n",
    "                                      valid=valid)\n",
    "        # If valid is false, just fill in the information that we have from the pandas data frame\n",
    "        else:\n",
    "            databaseEntry = Itenerary(distinctkey=row[\"primary_key\"],\n",
    "                                      numberitinerariesreturned=row[\"numItinerariesReturned\"],\n",
    "                                      selecteddestination_id=row[\"selectedDestination_id\"],\n",
    "                                      selecteddestination_name=row[\"selectedDestination_name\"],\n",
    "                                      startfromlocation=row[\"startFromLocation\"],\n",
    "                                      departuredate=row[\"departureDate\"],\n",
    "                                      valid=valid)\n",
    "\n",
    "        # Add the the information to a database.    \n",
    "        session.add(databaseEntry)\n",
    "        session.commit()\n",
    "    \n",
    "    else:\n",
    "        print(\"Entry already inside database\")"
   ]
  }
 ],
 "metadata": {
  "kernelspec": {
   "display_name": "Python 3",
   "language": "python",
   "name": "python3"
  },
  "language_info": {
   "codemirror_mode": {
    "name": "ipython",
    "version": 3
   },
   "file_extension": ".py",
   "mimetype": "text/x-python",
   "name": "python",
   "nbconvert_exporter": "python",
   "pygments_lexer": "ipython3",
   "version": "3.6.0"
  }
 },
 "nbformat": 4,
 "nbformat_minor": 2
}
